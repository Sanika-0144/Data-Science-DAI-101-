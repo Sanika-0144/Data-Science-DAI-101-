{
  "nbformat": 4,
  "nbformat_minor": 0,
  "metadata": {
    "colab": {
      "provenance": [],
      "authorship_tag": "ABX9TyMrTi37VJd6JDWvaJU/3dra",
      "include_colab_link": true
    },
    "kernelspec": {
      "name": "python3",
      "display_name": "Python 3"
    },
    "language_info": {
      "name": "python"
    }
  },
  "cells": [
    {
      "cell_type": "markdown",
      "metadata": {
        "id": "view-in-github",
        "colab_type": "text"
      },
      "source": [
        "<a href=\"https://colab.research.google.com/github/Sanika-0144/Data-Science-DAI-101-/blob/main/assighnment_dai.ipynb\" target=\"_parent\"><img src=\"https://colab.research.google.com/assets/colab-badge.svg\" alt=\"Open In Colab\"/></a>"
      ]
    },
    {
      "cell_type": "code",
      "execution_count": 1,
      "metadata": {
        "id": "5HtsRn0prUgt"
      },
      "outputs": [],
      "source": [
        "import pandas as pd\n",
        "import numpy as np\n",
        "import matplotlib.pyplot as plt\n",
        "import seaborn as sns\n",
        "import plotly.express as px"
      ]
    },
    {
      "cell_type": "code",
      "source": [
        "df= pd.read_csv('/content/assighnment 1 dai.csv', encoding= 'latin-1')\n",
        "df"
      ],
      "metadata": {
        "colab": {
          "base_uri": "https://localhost:8080/",
          "height": 634
        },
        "id": "VuKYv_8XrhxH",
        "outputId": "e2e5353f-edb6-492b-f6f4-5d83021a4524"
      },
      "execution_count": 2,
      "outputs": [
        {
          "output_type": "execute_result",
          "data": {
            "text/plain": [
              "      Area Code         Area  Months Code               Months  Element Code  \\\n",
              "0             2  Afghanistan         7001              January          7271   \n",
              "1             2  Afghanistan         7001              January          6078   \n",
              "2             2  Afghanistan         7002             February          7271   \n",
              "3             2  Afghanistan         7002             February          6078   \n",
              "4             2  Afghanistan         7003                March          7271   \n",
              "...         ...          ...          ...                  ...           ...   \n",
              "9651       5873         OECD         7018          JunJulAug          6078   \n",
              "9652       5873         OECD         7019          SepOctNov          7271   \n",
              "9653       5873         OECD         7019          SepOctNov          6078   \n",
              "9654       5873         OECD         7020  Meteorological year          7271   \n",
              "9655       5873         OECD         7020  Meteorological year          6078   \n",
              "\n",
              "                 Element Unit  Y2010  Y2011  Y2012  Y2013  Y2014  Y2015  \\\n",
              "0     Temperature change   °C  3.601  1.179 -0.583  1.233  1.755  1.943   \n",
              "1     Standard Deviation   °C  1.950  1.950  1.950  1.950  1.950  1.950   \n",
              "2     Temperature change   °C  1.212  0.321 -3.201  1.494 -3.187  2.699   \n",
              "3     Standard Deviation   °C  2.597  2.597  2.597  2.597  2.597  2.597   \n",
              "4     Temperature change   °C  3.390  0.748 -0.527  2.246 -0.076 -0.497   \n",
              "...                  ...  ...    ...    ...    ...    ...    ...    ...   \n",
              "9651  Standard Deviation   °C  0.247  0.247  0.247  0.247  0.247  0.247   \n",
              "9652  Temperature change   °C  0.958  1.106  0.885  1.041  0.999  1.670   \n",
              "9653  Standard Deviation   °C  0.378  0.378  0.378  0.378  0.378  0.378   \n",
              "9654  Temperature change   °C  1.246  0.805  1.274  0.991  0.811  1.282   \n",
              "9655  Standard Deviation   °C  0.260  0.260  0.260  0.260  0.260  0.260   \n",
              "\n",
              "      Y2016  Y2017  Y2018  Y2019  \n",
              "0     3.416  1.201  1.996  2.951  \n",
              "1     1.950  1.950  1.950  1.950  \n",
              "2     2.251 -0.323  2.705  0.086  \n",
              "3     2.597  2.597  2.597  2.597  \n",
              "4     2.296  0.834  4.418  0.234  \n",
              "...     ...    ...    ...    ...  \n",
              "9651  0.247  0.247  0.247  0.247  \n",
              "9652  1.535  1.194  0.581  1.233  \n",
              "9653  0.378  0.378  0.378  0.378  \n",
              "9654  1.850  1.349  1.088  1.297  \n",
              "9655  0.260  0.260  0.260  0.260  \n",
              "\n",
              "[9656 rows x 17 columns]"
            ],
            "text/html": [
              "\n",
              "  <div id=\"df-ff1e213a-fb0c-43c0-8d22-c38f790a3dd1\" class=\"colab-df-container\">\n",
              "    <div>\n",
              "<style scoped>\n",
              "    .dataframe tbody tr th:only-of-type {\n",
              "        vertical-align: middle;\n",
              "    }\n",
              "\n",
              "    .dataframe tbody tr th {\n",
              "        vertical-align: top;\n",
              "    }\n",
              "\n",
              "    .dataframe thead th {\n",
              "        text-align: right;\n",
              "    }\n",
              "</style>\n",
              "<table border=\"1\" class=\"dataframe\">\n",
              "  <thead>\n",
              "    <tr style=\"text-align: right;\">\n",
              "      <th></th>\n",
              "      <th>Area Code</th>\n",
              "      <th>Area</th>\n",
              "      <th>Months Code</th>\n",
              "      <th>Months</th>\n",
              "      <th>Element Code</th>\n",
              "      <th>Element</th>\n",
              "      <th>Unit</th>\n",
              "      <th>Y2010</th>\n",
              "      <th>Y2011</th>\n",
              "      <th>Y2012</th>\n",
              "      <th>Y2013</th>\n",
              "      <th>Y2014</th>\n",
              "      <th>Y2015</th>\n",
              "      <th>Y2016</th>\n",
              "      <th>Y2017</th>\n",
              "      <th>Y2018</th>\n",
              "      <th>Y2019</th>\n",
              "    </tr>\n",
              "  </thead>\n",
              "  <tbody>\n",
              "    <tr>\n",
              "      <th>0</th>\n",
              "      <td>2</td>\n",
              "      <td>Afghanistan</td>\n",
              "      <td>7001</td>\n",
              "      <td>January</td>\n",
              "      <td>7271</td>\n",
              "      <td>Temperature change</td>\n",
              "      <td>°C</td>\n",
              "      <td>3.601</td>\n",
              "      <td>1.179</td>\n",
              "      <td>-0.583</td>\n",
              "      <td>1.233</td>\n",
              "      <td>1.755</td>\n",
              "      <td>1.943</td>\n",
              "      <td>3.416</td>\n",
              "      <td>1.201</td>\n",
              "      <td>1.996</td>\n",
              "      <td>2.951</td>\n",
              "    </tr>\n",
              "    <tr>\n",
              "      <th>1</th>\n",
              "      <td>2</td>\n",
              "      <td>Afghanistan</td>\n",
              "      <td>7001</td>\n",
              "      <td>January</td>\n",
              "      <td>6078</td>\n",
              "      <td>Standard Deviation</td>\n",
              "      <td>°C</td>\n",
              "      <td>1.950</td>\n",
              "      <td>1.950</td>\n",
              "      <td>1.950</td>\n",
              "      <td>1.950</td>\n",
              "      <td>1.950</td>\n",
              "      <td>1.950</td>\n",
              "      <td>1.950</td>\n",
              "      <td>1.950</td>\n",
              "      <td>1.950</td>\n",
              "      <td>1.950</td>\n",
              "    </tr>\n",
              "    <tr>\n",
              "      <th>2</th>\n",
              "      <td>2</td>\n",
              "      <td>Afghanistan</td>\n",
              "      <td>7002</td>\n",
              "      <td>February</td>\n",
              "      <td>7271</td>\n",
              "      <td>Temperature change</td>\n",
              "      <td>°C</td>\n",
              "      <td>1.212</td>\n",
              "      <td>0.321</td>\n",
              "      <td>-3.201</td>\n",
              "      <td>1.494</td>\n",
              "      <td>-3.187</td>\n",
              "      <td>2.699</td>\n",
              "      <td>2.251</td>\n",
              "      <td>-0.323</td>\n",
              "      <td>2.705</td>\n",
              "      <td>0.086</td>\n",
              "    </tr>\n",
              "    <tr>\n",
              "      <th>3</th>\n",
              "      <td>2</td>\n",
              "      <td>Afghanistan</td>\n",
              "      <td>7002</td>\n",
              "      <td>February</td>\n",
              "      <td>6078</td>\n",
              "      <td>Standard Deviation</td>\n",
              "      <td>°C</td>\n",
              "      <td>2.597</td>\n",
              "      <td>2.597</td>\n",
              "      <td>2.597</td>\n",
              "      <td>2.597</td>\n",
              "      <td>2.597</td>\n",
              "      <td>2.597</td>\n",
              "      <td>2.597</td>\n",
              "      <td>2.597</td>\n",
              "      <td>2.597</td>\n",
              "      <td>2.597</td>\n",
              "    </tr>\n",
              "    <tr>\n",
              "      <th>4</th>\n",
              "      <td>2</td>\n",
              "      <td>Afghanistan</td>\n",
              "      <td>7003</td>\n",
              "      <td>March</td>\n",
              "      <td>7271</td>\n",
              "      <td>Temperature change</td>\n",
              "      <td>°C</td>\n",
              "      <td>3.390</td>\n",
              "      <td>0.748</td>\n",
              "      <td>-0.527</td>\n",
              "      <td>2.246</td>\n",
              "      <td>-0.076</td>\n",
              "      <td>-0.497</td>\n",
              "      <td>2.296</td>\n",
              "      <td>0.834</td>\n",
              "      <td>4.418</td>\n",
              "      <td>0.234</td>\n",
              "    </tr>\n",
              "    <tr>\n",
              "      <th>...</th>\n",
              "      <td>...</td>\n",
              "      <td>...</td>\n",
              "      <td>...</td>\n",
              "      <td>...</td>\n",
              "      <td>...</td>\n",
              "      <td>...</td>\n",
              "      <td>...</td>\n",
              "      <td>...</td>\n",
              "      <td>...</td>\n",
              "      <td>...</td>\n",
              "      <td>...</td>\n",
              "      <td>...</td>\n",
              "      <td>...</td>\n",
              "      <td>...</td>\n",
              "      <td>...</td>\n",
              "      <td>...</td>\n",
              "      <td>...</td>\n",
              "    </tr>\n",
              "    <tr>\n",
              "      <th>9651</th>\n",
              "      <td>5873</td>\n",
              "      <td>OECD</td>\n",
              "      <td>7018</td>\n",
              "      <td>JunJulAug</td>\n",
              "      <td>6078</td>\n",
              "      <td>Standard Deviation</td>\n",
              "      <td>°C</td>\n",
              "      <td>0.247</td>\n",
              "      <td>0.247</td>\n",
              "      <td>0.247</td>\n",
              "      <td>0.247</td>\n",
              "      <td>0.247</td>\n",
              "      <td>0.247</td>\n",
              "      <td>0.247</td>\n",
              "      <td>0.247</td>\n",
              "      <td>0.247</td>\n",
              "      <td>0.247</td>\n",
              "    </tr>\n",
              "    <tr>\n",
              "      <th>9652</th>\n",
              "      <td>5873</td>\n",
              "      <td>OECD</td>\n",
              "      <td>7019</td>\n",
              "      <td>SepOctNov</td>\n",
              "      <td>7271</td>\n",
              "      <td>Temperature change</td>\n",
              "      <td>°C</td>\n",
              "      <td>0.958</td>\n",
              "      <td>1.106</td>\n",
              "      <td>0.885</td>\n",
              "      <td>1.041</td>\n",
              "      <td>0.999</td>\n",
              "      <td>1.670</td>\n",
              "      <td>1.535</td>\n",
              "      <td>1.194</td>\n",
              "      <td>0.581</td>\n",
              "      <td>1.233</td>\n",
              "    </tr>\n",
              "    <tr>\n",
              "      <th>9653</th>\n",
              "      <td>5873</td>\n",
              "      <td>OECD</td>\n",
              "      <td>7019</td>\n",
              "      <td>SepOctNov</td>\n",
              "      <td>6078</td>\n",
              "      <td>Standard Deviation</td>\n",
              "      <td>°C</td>\n",
              "      <td>0.378</td>\n",
              "      <td>0.378</td>\n",
              "      <td>0.378</td>\n",
              "      <td>0.378</td>\n",
              "      <td>0.378</td>\n",
              "      <td>0.378</td>\n",
              "      <td>0.378</td>\n",
              "      <td>0.378</td>\n",
              "      <td>0.378</td>\n",
              "      <td>0.378</td>\n",
              "    </tr>\n",
              "    <tr>\n",
              "      <th>9654</th>\n",
              "      <td>5873</td>\n",
              "      <td>OECD</td>\n",
              "      <td>7020</td>\n",
              "      <td>Meteorological year</td>\n",
              "      <td>7271</td>\n",
              "      <td>Temperature change</td>\n",
              "      <td>°C</td>\n",
              "      <td>1.246</td>\n",
              "      <td>0.805</td>\n",
              "      <td>1.274</td>\n",
              "      <td>0.991</td>\n",
              "      <td>0.811</td>\n",
              "      <td>1.282</td>\n",
              "      <td>1.850</td>\n",
              "      <td>1.349</td>\n",
              "      <td>1.088</td>\n",
              "      <td>1.297</td>\n",
              "    </tr>\n",
              "    <tr>\n",
              "      <th>9655</th>\n",
              "      <td>5873</td>\n",
              "      <td>OECD</td>\n",
              "      <td>7020</td>\n",
              "      <td>Meteorological year</td>\n",
              "      <td>6078</td>\n",
              "      <td>Standard Deviation</td>\n",
              "      <td>°C</td>\n",
              "      <td>0.260</td>\n",
              "      <td>0.260</td>\n",
              "      <td>0.260</td>\n",
              "      <td>0.260</td>\n",
              "      <td>0.260</td>\n",
              "      <td>0.260</td>\n",
              "      <td>0.260</td>\n",
              "      <td>0.260</td>\n",
              "      <td>0.260</td>\n",
              "      <td>0.260</td>\n",
              "    </tr>\n",
              "  </tbody>\n",
              "</table>\n",
              "<p>9656 rows × 17 columns</p>\n",
              "</div>\n",
              "    <div class=\"colab-df-buttons\">\n",
              "\n",
              "  <div class=\"colab-df-container\">\n",
              "    <button class=\"colab-df-convert\" onclick=\"convertToInteractive('df-ff1e213a-fb0c-43c0-8d22-c38f790a3dd1')\"\n",
              "            title=\"Convert this dataframe to an interactive table.\"\n",
              "            style=\"display:none;\">\n",
              "\n",
              "  <svg xmlns=\"http://www.w3.org/2000/svg\" height=\"24px\" viewBox=\"0 -960 960 960\">\n",
              "    <path d=\"M120-120v-720h720v720H120Zm60-500h600v-160H180v160Zm220 220h160v-160H400v160Zm0 220h160v-160H400v160ZM180-400h160v-160H180v160Zm440 0h160v-160H620v160ZM180-180h160v-160H180v160Zm440 0h160v-160H620v160Z\"/>\n",
              "  </svg>\n",
              "    </button>\n",
              "\n",
              "  <style>\n",
              "    .colab-df-container {\n",
              "      display:flex;\n",
              "      gap: 12px;\n",
              "    }\n",
              "\n",
              "    .colab-df-convert {\n",
              "      background-color: #E8F0FE;\n",
              "      border: none;\n",
              "      border-radius: 50%;\n",
              "      cursor: pointer;\n",
              "      display: none;\n",
              "      fill: #1967D2;\n",
              "      height: 32px;\n",
              "      padding: 0 0 0 0;\n",
              "      width: 32px;\n",
              "    }\n",
              "\n",
              "    .colab-df-convert:hover {\n",
              "      background-color: #E2EBFA;\n",
              "      box-shadow: 0px 1px 2px rgba(60, 64, 67, 0.3), 0px 1px 3px 1px rgba(60, 64, 67, 0.15);\n",
              "      fill: #174EA6;\n",
              "    }\n",
              "\n",
              "    .colab-df-buttons div {\n",
              "      margin-bottom: 4px;\n",
              "    }\n",
              "\n",
              "    [theme=dark] .colab-df-convert {\n",
              "      background-color: #3B4455;\n",
              "      fill: #D2E3FC;\n",
              "    }\n",
              "\n",
              "    [theme=dark] .colab-df-convert:hover {\n",
              "      background-color: #434B5C;\n",
              "      box-shadow: 0px 1px 3px 1px rgba(0, 0, 0, 0.15);\n",
              "      filter: drop-shadow(0px 1px 2px rgba(0, 0, 0, 0.3));\n",
              "      fill: #FFFFFF;\n",
              "    }\n",
              "  </style>\n",
              "\n",
              "    <script>\n",
              "      const buttonEl =\n",
              "        document.querySelector('#df-ff1e213a-fb0c-43c0-8d22-c38f790a3dd1 button.colab-df-convert');\n",
              "      buttonEl.style.display =\n",
              "        google.colab.kernel.accessAllowed ? 'block' : 'none';\n",
              "\n",
              "      async function convertToInteractive(key) {\n",
              "        const element = document.querySelector('#df-ff1e213a-fb0c-43c0-8d22-c38f790a3dd1');\n",
              "        const dataTable =\n",
              "          await google.colab.kernel.invokeFunction('convertToInteractive',\n",
              "                                                    [key], {});\n",
              "        if (!dataTable) return;\n",
              "\n",
              "        const docLinkHtml = 'Like what you see? Visit the ' +\n",
              "          '<a target=\"_blank\" href=https://colab.research.google.com/notebooks/data_table.ipynb>data table notebook</a>'\n",
              "          + ' to learn more about interactive tables.';\n",
              "        element.innerHTML = '';\n",
              "        dataTable['output_type'] = 'display_data';\n",
              "        await google.colab.output.renderOutput(dataTable, element);\n",
              "        const docLink = document.createElement('div');\n",
              "        docLink.innerHTML = docLinkHtml;\n",
              "        element.appendChild(docLink);\n",
              "      }\n",
              "    </script>\n",
              "  </div>\n",
              "\n",
              "\n",
              "<div id=\"df-57005f04-4ae7-4f47-8a48-8be1a4441097\">\n",
              "  <button class=\"colab-df-quickchart\" onclick=\"quickchart('df-57005f04-4ae7-4f47-8a48-8be1a4441097')\"\n",
              "            title=\"Suggest charts\"\n",
              "            style=\"display:none;\">\n",
              "\n",
              "<svg xmlns=\"http://www.w3.org/2000/svg\" height=\"24px\"viewBox=\"0 0 24 24\"\n",
              "     width=\"24px\">\n",
              "    <g>\n",
              "        <path d=\"M19 3H5c-1.1 0-2 .9-2 2v14c0 1.1.9 2 2 2h14c1.1 0 2-.9 2-2V5c0-1.1-.9-2-2-2zM9 17H7v-7h2v7zm4 0h-2V7h2v10zm4 0h-2v-4h2v4z\"/>\n",
              "    </g>\n",
              "</svg>\n",
              "  </button>\n",
              "\n",
              "<style>\n",
              "  .colab-df-quickchart {\n",
              "      --bg-color: #E8F0FE;\n",
              "      --fill-color: #1967D2;\n",
              "      --hover-bg-color: #E2EBFA;\n",
              "      --hover-fill-color: #174EA6;\n",
              "      --disabled-fill-color: #AAA;\n",
              "      --disabled-bg-color: #DDD;\n",
              "  }\n",
              "\n",
              "  [theme=dark] .colab-df-quickchart {\n",
              "      --bg-color: #3B4455;\n",
              "      --fill-color: #D2E3FC;\n",
              "      --hover-bg-color: #434B5C;\n",
              "      --hover-fill-color: #FFFFFF;\n",
              "      --disabled-bg-color: #3B4455;\n",
              "      --disabled-fill-color: #666;\n",
              "  }\n",
              "\n",
              "  .colab-df-quickchart {\n",
              "    background-color: var(--bg-color);\n",
              "    border: none;\n",
              "    border-radius: 50%;\n",
              "    cursor: pointer;\n",
              "    display: none;\n",
              "    fill: var(--fill-color);\n",
              "    height: 32px;\n",
              "    padding: 0;\n",
              "    width: 32px;\n",
              "  }\n",
              "\n",
              "  .colab-df-quickchart:hover {\n",
              "    background-color: var(--hover-bg-color);\n",
              "    box-shadow: 0 1px 2px rgba(60, 64, 67, 0.3), 0 1px 3px 1px rgba(60, 64, 67, 0.15);\n",
              "    fill: var(--button-hover-fill-color);\n",
              "  }\n",
              "\n",
              "  .colab-df-quickchart-complete:disabled,\n",
              "  .colab-df-quickchart-complete:disabled:hover {\n",
              "    background-color: var(--disabled-bg-color);\n",
              "    fill: var(--disabled-fill-color);\n",
              "    box-shadow: none;\n",
              "  }\n",
              "\n",
              "  .colab-df-spinner {\n",
              "    border: 2px solid var(--fill-color);\n",
              "    border-color: transparent;\n",
              "    border-bottom-color: var(--fill-color);\n",
              "    animation:\n",
              "      spin 1s steps(1) infinite;\n",
              "  }\n",
              "\n",
              "  @keyframes spin {\n",
              "    0% {\n",
              "      border-color: transparent;\n",
              "      border-bottom-color: var(--fill-color);\n",
              "      border-left-color: var(--fill-color);\n",
              "    }\n",
              "    20% {\n",
              "      border-color: transparent;\n",
              "      border-left-color: var(--fill-color);\n",
              "      border-top-color: var(--fill-color);\n",
              "    }\n",
              "    30% {\n",
              "      border-color: transparent;\n",
              "      border-left-color: var(--fill-color);\n",
              "      border-top-color: var(--fill-color);\n",
              "      border-right-color: var(--fill-color);\n",
              "    }\n",
              "    40% {\n",
              "      border-color: transparent;\n",
              "      border-right-color: var(--fill-color);\n",
              "      border-top-color: var(--fill-color);\n",
              "    }\n",
              "    60% {\n",
              "      border-color: transparent;\n",
              "      border-right-color: var(--fill-color);\n",
              "    }\n",
              "    80% {\n",
              "      border-color: transparent;\n",
              "      border-right-color: var(--fill-color);\n",
              "      border-bottom-color: var(--fill-color);\n",
              "    }\n",
              "    90% {\n",
              "      border-color: transparent;\n",
              "      border-bottom-color: var(--fill-color);\n",
              "    }\n",
              "  }\n",
              "</style>\n",
              "\n",
              "  <script>\n",
              "    async function quickchart(key) {\n",
              "      const quickchartButtonEl =\n",
              "        document.querySelector('#' + key + ' button');\n",
              "      quickchartButtonEl.disabled = true;  // To prevent multiple clicks.\n",
              "      quickchartButtonEl.classList.add('colab-df-spinner');\n",
              "      try {\n",
              "        const charts = await google.colab.kernel.invokeFunction(\n",
              "            'suggestCharts', [key], {});\n",
              "      } catch (error) {\n",
              "        console.error('Error during call to suggestCharts:', error);\n",
              "      }\n",
              "      quickchartButtonEl.classList.remove('colab-df-spinner');\n",
              "      quickchartButtonEl.classList.add('colab-df-quickchart-complete');\n",
              "    }\n",
              "    (() => {\n",
              "      let quickchartButtonEl =\n",
              "        document.querySelector('#df-57005f04-4ae7-4f47-8a48-8be1a4441097 button');\n",
              "      quickchartButtonEl.style.display =\n",
              "        google.colab.kernel.accessAllowed ? 'block' : 'none';\n",
              "    })();\n",
              "  </script>\n",
              "</div>\n",
              "\n",
              "  <div id=\"id_e97fa4d5-df55-4a11-9043-034b94051ea2\">\n",
              "    <style>\n",
              "      .colab-df-generate {\n",
              "        background-color: #E8F0FE;\n",
              "        border: none;\n",
              "        border-radius: 50%;\n",
              "        cursor: pointer;\n",
              "        display: none;\n",
              "        fill: #1967D2;\n",
              "        height: 32px;\n",
              "        padding: 0 0 0 0;\n",
              "        width: 32px;\n",
              "      }\n",
              "\n",
              "      .colab-df-generate:hover {\n",
              "        background-color: #E2EBFA;\n",
              "        box-shadow: 0px 1px 2px rgba(60, 64, 67, 0.3), 0px 1px 3px 1px rgba(60, 64, 67, 0.15);\n",
              "        fill: #174EA6;\n",
              "      }\n",
              "\n",
              "      [theme=dark] .colab-df-generate {\n",
              "        background-color: #3B4455;\n",
              "        fill: #D2E3FC;\n",
              "      }\n",
              "\n",
              "      [theme=dark] .colab-df-generate:hover {\n",
              "        background-color: #434B5C;\n",
              "        box-shadow: 0px 1px 3px 1px rgba(0, 0, 0, 0.15);\n",
              "        filter: drop-shadow(0px 1px 2px rgba(0, 0, 0, 0.3));\n",
              "        fill: #FFFFFF;\n",
              "      }\n",
              "    </style>\n",
              "    <button class=\"colab-df-generate\" onclick=\"generateWithVariable('df')\"\n",
              "            title=\"Generate code using this dataframe.\"\n",
              "            style=\"display:none;\">\n",
              "\n",
              "  <svg xmlns=\"http://www.w3.org/2000/svg\" height=\"24px\"viewBox=\"0 0 24 24\"\n",
              "       width=\"24px\">\n",
              "    <path d=\"M7,19H8.4L18.45,9,17,7.55,7,17.6ZM5,21V16.75L18.45,3.32a2,2,0,0,1,2.83,0l1.4,1.43a1.91,1.91,0,0,1,.58,1.4,1.91,1.91,0,0,1-.58,1.4L9.25,21ZM18.45,9,17,7.55Zm-12,3A5.31,5.31,0,0,0,4.9,8.1,5.31,5.31,0,0,0,1,6.5,5.31,5.31,0,0,0,4.9,4.9,5.31,5.31,0,0,0,6.5,1,5.31,5.31,0,0,0,8.1,4.9,5.31,5.31,0,0,0,12,6.5,5.46,5.46,0,0,0,6.5,12Z\"/>\n",
              "  </svg>\n",
              "    </button>\n",
              "    <script>\n",
              "      (() => {\n",
              "      const buttonEl =\n",
              "        document.querySelector('#id_e97fa4d5-df55-4a11-9043-034b94051ea2 button.colab-df-generate');\n",
              "      buttonEl.style.display =\n",
              "        google.colab.kernel.accessAllowed ? 'block' : 'none';\n",
              "\n",
              "      buttonEl.onclick = () => {\n",
              "        google.colab.notebook.generateWithVariable('df');\n",
              "      }\n",
              "      })();\n",
              "    </script>\n",
              "  </div>\n",
              "\n",
              "    </div>\n",
              "  </div>\n"
            ],
            "application/vnd.google.colaboratory.intrinsic+json": {
              "type": "dataframe",
              "variable_name": "df",
              "summary": "{\n  \"name\": \"df\",\n  \"rows\": 9656,\n  \"fields\": [\n    {\n      \"column\": \"Area Code\",\n      \"properties\": {\n        \"dtype\": \"number\",\n        \"std\": 1781,\n        \"min\": 1,\n        \"max\": 5873,\n        \"num_unique_values\": 284,\n        \"samples\": [\n          9,\n          5105,\n          158\n        ],\n        \"semantic_type\": \"\",\n        \"description\": \"\"\n      }\n    },\n    {\n      \"column\": \"Area\",\n      \"properties\": {\n        \"dtype\": \"category\",\n        \"num_unique_values\": 284,\n        \"samples\": [\n          \"Argentina\",\n          \"Western Africa\",\n          \"Niger\"\n        ],\n        \"semantic_type\": \"\",\n        \"description\": \"\"\n      }\n    },\n    {\n      \"column\": \"Months Code\",\n      \"properties\": {\n        \"dtype\": \"number\",\n        \"std\": 6,\n        \"min\": 7001,\n        \"max\": 7020,\n        \"num_unique_values\": 17,\n        \"samples\": [\n          7001,\n          7002,\n          7006\n        ],\n        \"semantic_type\": \"\",\n        \"description\": \"\"\n      }\n    },\n    {\n      \"column\": \"Months\",\n      \"properties\": {\n        \"dtype\": \"category\",\n        \"num_unique_values\": 17,\n        \"samples\": [\n          \"January\",\n          \"February\",\n          \"June\"\n        ],\n        \"semantic_type\": \"\",\n        \"description\": \"\"\n      }\n    },\n    {\n      \"column\": \"Element Code\",\n      \"properties\": {\n        \"dtype\": \"number\",\n        \"std\": 596,\n        \"min\": 6078,\n        \"max\": 7271,\n        \"num_unique_values\": 2,\n        \"samples\": [\n          6078,\n          7271\n        ],\n        \"semantic_type\": \"\",\n        \"description\": \"\"\n      }\n    },\n    {\n      \"column\": \"Element\",\n      \"properties\": {\n        \"dtype\": \"category\",\n        \"num_unique_values\": 2,\n        \"samples\": [\n          \"Standard Deviation\",\n          \"Temperature change\"\n        ],\n        \"semantic_type\": \"\",\n        \"description\": \"\"\n      }\n    },\n    {\n      \"column\": \"Unit\",\n      \"properties\": {\n        \"dtype\": \"category\",\n        \"num_unique_values\": 1,\n        \"samples\": [\n          \"\\u00b0C\"\n        ],\n        \"semantic_type\": \"\",\n        \"description\": \"\"\n      }\n    },\n    {\n      \"column\": \"Y2010\",\n      \"properties\": {\n        \"dtype\": \"number\",\n        \"std\": 0.8783032981233945,\n        \"min\": -6.072,\n        \"max\": 7.19,\n        \"num_unique_values\": 2745,\n        \"samples\": [\n          2.401\n        ],\n        \"semantic_type\": \"\",\n        \"description\": \"\"\n      }\n    },\n    {\n      \"column\": \"Y2011\",\n      \"properties\": {\n        \"dtype\": \"number\",\n        \"std\": 0.7506309179699536,\n        \"min\": -4.854,\n        \"max\": 6.531,\n        \"num_unique_values\": 2543,\n        \"samples\": [\n          0.842\n        ],\n        \"semantic_type\": \"\",\n        \"description\": \"\"\n      }\n    },\n    {\n      \"column\": \"Y2012\",\n      \"properties\": {\n        \"dtype\": \"number\",\n        \"std\": 0.8585864751937252,\n        \"min\": -5.785,\n        \"max\": 10.826,\n        \"num_unique_values\": 2637,\n        \"samples\": [\n          1.56\n        ],\n        \"semantic_type\": \"\",\n        \"description\": \"\"\n      }\n    },\n    {\n      \"column\": \"Y2013\",\n      \"properties\": {\n        \"dtype\": \"number\",\n        \"std\": 0.7137531088847753,\n        \"min\": -3.642,\n        \"max\": 6.738,\n        \"num_unique_values\": 2411,\n        \"samples\": [\n          -0.395\n        ],\n        \"semantic_type\": \"\",\n        \"description\": \"\"\n      }\n    },\n    {\n      \"column\": \"Y2014\",\n      \"properties\": {\n        \"dtype\": \"number\",\n        \"std\": 0.8159326656787452,\n        \"min\": -5.367,\n        \"max\": 11.759,\n        \"num_unique_values\": 2527,\n        \"samples\": [\n          0.162\n        ],\n        \"semantic_type\": \"\",\n        \"description\": \"\"\n      }\n    },\n    {\n      \"column\": \"Y2015\",\n      \"properties\": {\n        \"dtype\": \"number\",\n        \"std\": 0.8401885594486395,\n        \"min\": -4.068,\n        \"max\": 7.59,\n        \"num_unique_values\": 2652,\n        \"samples\": [\n          1.48\n        ],\n        \"semantic_type\": \"\",\n        \"description\": \"\"\n      }\n    },\n    {\n      \"column\": \"Y2016\",\n      \"properties\": {\n        \"dtype\": \"number\",\n        \"std\": 0.8773985866754673,\n        \"min\": -3.306,\n        \"max\": 10.478,\n        \"num_unique_values\": 2657,\n        \"samples\": [\n          2.084\n        ],\n        \"semantic_type\": \"\",\n        \"description\": \"\"\n      }\n    },\n    {\n      \"column\": \"Y2017\",\n      \"properties\": {\n        \"dtype\": \"number\",\n        \"std\": 0.8098004144261917,\n        \"min\": -3.584,\n        \"max\": 7.389,\n        \"num_unique_values\": 2602,\n        \"samples\": [\n          -1.465\n        ],\n        \"semantic_type\": \"\",\n        \"description\": \"\"\n      }\n    },\n    {\n      \"column\": \"Y2018\",\n      \"properties\": {\n        \"dtype\": \"number\",\n        \"std\": 0.8721990215969201,\n        \"min\": -2.216,\n        \"max\": 9.228,\n        \"num_unique_values\": 2720,\n        \"samples\": [\n          0.591\n        ],\n        \"semantic_type\": \"\",\n        \"description\": \"\"\n      }\n    },\n    {\n      \"column\": \"Y2019\",\n      \"properties\": {\n        \"dtype\": \"number\",\n        \"std\": 0.8539529905204223,\n        \"min\": -2.644,\n        \"max\": 7.215,\n        \"num_unique_values\": 2697,\n        \"samples\": [\n          1.448\n        ],\n        \"semantic_type\": \"\",\n        \"description\": \"\"\n      }\n    }\n  ]\n}"
            }
          },
          "metadata": {},
          "execution_count": 2
        }
      ]
    },
    {
      "cell_type": "code",
      "source": [
        "df.shape"
      ],
      "metadata": {
        "colab": {
          "base_uri": "https://localhost:8080/"
        },
        "id": "EDIixOZCsVca",
        "outputId": "5f2a5343-0824-40db-dea1-940f4f274ff4"
      },
      "execution_count": 3,
      "outputs": [
        {
          "output_type": "execute_result",
          "data": {
            "text/plain": [
              "(9656, 17)"
            ]
          },
          "metadata": {},
          "execution_count": 3
        }
      ]
    },
    {
      "cell_type": "code",
      "source": [
        "df.info()"
      ],
      "metadata": {
        "colab": {
          "base_uri": "https://localhost:8080/"
        },
        "id": "SM8C-gTcsaMR",
        "outputId": "1afc2a17-c843-4955-e8c5-032e094d63a1"
      },
      "execution_count": 4,
      "outputs": [
        {
          "output_type": "stream",
          "name": "stdout",
          "text": [
            "<class 'pandas.core.frame.DataFrame'>\n",
            "RangeIndex: 9656 entries, 0 to 9655\n",
            "Data columns (total 17 columns):\n",
            " #   Column        Non-Null Count  Dtype  \n",
            "---  ------        --------------  -----  \n",
            " 0   Area Code     9656 non-null   int64  \n",
            " 1   Area          9656 non-null   object \n",
            " 2   Months Code   9656 non-null   int64  \n",
            " 3   Months        9656 non-null   object \n",
            " 4   Element Code  9656 non-null   int64  \n",
            " 5   Element       9656 non-null   object \n",
            " 6   Unit          9656 non-null   object \n",
            " 7   Y2010         8435 non-null   float64\n",
            " 8   Y2011         8437 non-null   float64\n",
            " 9   Y2012         8350 non-null   float64\n",
            " 10  Y2013         8427 non-null   float64\n",
            " 11  Y2014         8377 non-null   float64\n",
            " 12  Y2015         8361 non-null   float64\n",
            " 13  Y2016         8348 non-null   float64\n",
            " 14  Y2017         8366 non-null   float64\n",
            " 15  Y2018         8349 non-null   float64\n",
            " 16  Y2019         8365 non-null   float64\n",
            "dtypes: float64(10), int64(3), object(4)\n",
            "memory usage: 1.3+ MB\n"
          ]
        }
      ]
    },
    {
      "cell_type": "code",
      "source": [
        "df.describe()"
      ],
      "metadata": {
        "colab": {
          "base_uri": "https://localhost:8080/",
          "height": 337
        },
        "id": "7D0vmPaDsdQJ",
        "outputId": "8c4f90ca-82a5-46b9-e96a-92b247675fea"
      },
      "execution_count": 5,
      "outputs": [
        {
          "output_type": "execute_result",
          "data": {
            "text/plain": [
              "         Area Code  Months Code  Element Code        Y2010        Y2011  \\\n",
              "count  9656.000000  9656.000000    9656.00000  8435.000000  8437.000000   \n",
              "mean    821.806338  7009.882353    6674.50000     0.884504     0.768488   \n",
              "std    1781.072213     6.038255     596.53089     0.878303     0.750631   \n",
              "min       1.000000  7001.000000    6078.00000    -6.072000    -4.854000   \n",
              "25%      78.000000  7005.000000    6078.00000     0.392000     0.365000   \n",
              "50%     153.500000  7009.000000    6674.50000     0.771000     0.640000   \n",
              "75%     226.250000  7016.000000    7271.00000     1.276500     1.091000   \n",
              "max    5873.000000  7020.000000    7271.00000     7.190000     6.531000   \n",
              "\n",
              "             Y2012        Y2013        Y2014        Y2015        Y2016  \\\n",
              "count  8350.000000  8427.000000  8377.000000  8361.000000  8348.000000   \n",
              "mean      0.788930     0.829647     0.913872     1.018816     1.081491   \n",
              "std       0.858586     0.713753     0.815933     0.840189     0.877399   \n",
              "min      -5.785000    -3.642000    -5.367000    -4.068000    -3.306000   \n",
              "25%       0.372250     0.408500     0.418000     0.437000     0.457000   \n",
              "50%       0.651000     0.719000     0.745000     0.858000     0.949000   \n",
              "75%       1.108000     1.126000     1.190000     1.389000     1.496000   \n",
              "max      10.826000     6.738000    11.759000     7.590000    10.478000   \n",
              "\n",
              "             Y2017        Y2018        Y2019  \n",
              "count  8366.000000  8349.000000  8365.000000  \n",
              "mean      1.003342     1.010832     1.094599  \n",
              "std       0.809800     0.872199     0.853953  \n",
              "min      -3.584000    -2.216000    -2.644000  \n",
              "25%       0.443000     0.434000     0.455000  \n",
              "50%       0.865000     0.810000     0.939000  \n",
              "75%       1.364750     1.341000     1.508000  \n",
              "max       7.389000     9.228000     7.215000  "
            ],
            "text/html": [
              "\n",
              "  <div id=\"df-bd0e0f65-eeca-4aa8-97c2-12dd727d3ab2\" class=\"colab-df-container\">\n",
              "    <div>\n",
              "<style scoped>\n",
              "    .dataframe tbody tr th:only-of-type {\n",
              "        vertical-align: middle;\n",
              "    }\n",
              "\n",
              "    .dataframe tbody tr th {\n",
              "        vertical-align: top;\n",
              "    }\n",
              "\n",
              "    .dataframe thead th {\n",
              "        text-align: right;\n",
              "    }\n",
              "</style>\n",
              "<table border=\"1\" class=\"dataframe\">\n",
              "  <thead>\n",
              "    <tr style=\"text-align: right;\">\n",
              "      <th></th>\n",
              "      <th>Area Code</th>\n",
              "      <th>Months Code</th>\n",
              "      <th>Element Code</th>\n",
              "      <th>Y2010</th>\n",
              "      <th>Y2011</th>\n",
              "      <th>Y2012</th>\n",
              "      <th>Y2013</th>\n",
              "      <th>Y2014</th>\n",
              "      <th>Y2015</th>\n",
              "      <th>Y2016</th>\n",
              "      <th>Y2017</th>\n",
              "      <th>Y2018</th>\n",
              "      <th>Y2019</th>\n",
              "    </tr>\n",
              "  </thead>\n",
              "  <tbody>\n",
              "    <tr>\n",
              "      <th>count</th>\n",
              "      <td>9656.000000</td>\n",
              "      <td>9656.000000</td>\n",
              "      <td>9656.00000</td>\n",
              "      <td>8435.000000</td>\n",
              "      <td>8437.000000</td>\n",
              "      <td>8350.000000</td>\n",
              "      <td>8427.000000</td>\n",
              "      <td>8377.000000</td>\n",
              "      <td>8361.000000</td>\n",
              "      <td>8348.000000</td>\n",
              "      <td>8366.000000</td>\n",
              "      <td>8349.000000</td>\n",
              "      <td>8365.000000</td>\n",
              "    </tr>\n",
              "    <tr>\n",
              "      <th>mean</th>\n",
              "      <td>821.806338</td>\n",
              "      <td>7009.882353</td>\n",
              "      <td>6674.50000</td>\n",
              "      <td>0.884504</td>\n",
              "      <td>0.768488</td>\n",
              "      <td>0.788930</td>\n",
              "      <td>0.829647</td>\n",
              "      <td>0.913872</td>\n",
              "      <td>1.018816</td>\n",
              "      <td>1.081491</td>\n",
              "      <td>1.003342</td>\n",
              "      <td>1.010832</td>\n",
              "      <td>1.094599</td>\n",
              "    </tr>\n",
              "    <tr>\n",
              "      <th>std</th>\n",
              "      <td>1781.072213</td>\n",
              "      <td>6.038255</td>\n",
              "      <td>596.53089</td>\n",
              "      <td>0.878303</td>\n",
              "      <td>0.750631</td>\n",
              "      <td>0.858586</td>\n",
              "      <td>0.713753</td>\n",
              "      <td>0.815933</td>\n",
              "      <td>0.840189</td>\n",
              "      <td>0.877399</td>\n",
              "      <td>0.809800</td>\n",
              "      <td>0.872199</td>\n",
              "      <td>0.853953</td>\n",
              "    </tr>\n",
              "    <tr>\n",
              "      <th>min</th>\n",
              "      <td>1.000000</td>\n",
              "      <td>7001.000000</td>\n",
              "      <td>6078.00000</td>\n",
              "      <td>-6.072000</td>\n",
              "      <td>-4.854000</td>\n",
              "      <td>-5.785000</td>\n",
              "      <td>-3.642000</td>\n",
              "      <td>-5.367000</td>\n",
              "      <td>-4.068000</td>\n",
              "      <td>-3.306000</td>\n",
              "      <td>-3.584000</td>\n",
              "      <td>-2.216000</td>\n",
              "      <td>-2.644000</td>\n",
              "    </tr>\n",
              "    <tr>\n",
              "      <th>25%</th>\n",
              "      <td>78.000000</td>\n",
              "      <td>7005.000000</td>\n",
              "      <td>6078.00000</td>\n",
              "      <td>0.392000</td>\n",
              "      <td>0.365000</td>\n",
              "      <td>0.372250</td>\n",
              "      <td>0.408500</td>\n",
              "      <td>0.418000</td>\n",
              "      <td>0.437000</td>\n",
              "      <td>0.457000</td>\n",
              "      <td>0.443000</td>\n",
              "      <td>0.434000</td>\n",
              "      <td>0.455000</td>\n",
              "    </tr>\n",
              "    <tr>\n",
              "      <th>50%</th>\n",
              "      <td>153.500000</td>\n",
              "      <td>7009.000000</td>\n",
              "      <td>6674.50000</td>\n",
              "      <td>0.771000</td>\n",
              "      <td>0.640000</td>\n",
              "      <td>0.651000</td>\n",
              "      <td>0.719000</td>\n",
              "      <td>0.745000</td>\n",
              "      <td>0.858000</td>\n",
              "      <td>0.949000</td>\n",
              "      <td>0.865000</td>\n",
              "      <td>0.810000</td>\n",
              "      <td>0.939000</td>\n",
              "    </tr>\n",
              "    <tr>\n",
              "      <th>75%</th>\n",
              "      <td>226.250000</td>\n",
              "      <td>7016.000000</td>\n",
              "      <td>7271.00000</td>\n",
              "      <td>1.276500</td>\n",
              "      <td>1.091000</td>\n",
              "      <td>1.108000</td>\n",
              "      <td>1.126000</td>\n",
              "      <td>1.190000</td>\n",
              "      <td>1.389000</td>\n",
              "      <td>1.496000</td>\n",
              "      <td>1.364750</td>\n",
              "      <td>1.341000</td>\n",
              "      <td>1.508000</td>\n",
              "    </tr>\n",
              "    <tr>\n",
              "      <th>max</th>\n",
              "      <td>5873.000000</td>\n",
              "      <td>7020.000000</td>\n",
              "      <td>7271.00000</td>\n",
              "      <td>7.190000</td>\n",
              "      <td>6.531000</td>\n",
              "      <td>10.826000</td>\n",
              "      <td>6.738000</td>\n",
              "      <td>11.759000</td>\n",
              "      <td>7.590000</td>\n",
              "      <td>10.478000</td>\n",
              "      <td>7.389000</td>\n",
              "      <td>9.228000</td>\n",
              "      <td>7.215000</td>\n",
              "    </tr>\n",
              "  </tbody>\n",
              "</table>\n",
              "</div>\n",
              "    <div class=\"colab-df-buttons\">\n",
              "\n",
              "  <div class=\"colab-df-container\">\n",
              "    <button class=\"colab-df-convert\" onclick=\"convertToInteractive('df-bd0e0f65-eeca-4aa8-97c2-12dd727d3ab2')\"\n",
              "            title=\"Convert this dataframe to an interactive table.\"\n",
              "            style=\"display:none;\">\n",
              "\n",
              "  <svg xmlns=\"http://www.w3.org/2000/svg\" height=\"24px\" viewBox=\"0 -960 960 960\">\n",
              "    <path d=\"M120-120v-720h720v720H120Zm60-500h600v-160H180v160Zm220 220h160v-160H400v160Zm0 220h160v-160H400v160ZM180-400h160v-160H180v160Zm440 0h160v-160H620v160ZM180-180h160v-160H180v160Zm440 0h160v-160H620v160Z\"/>\n",
              "  </svg>\n",
              "    </button>\n",
              "\n",
              "  <style>\n",
              "    .colab-df-container {\n",
              "      display:flex;\n",
              "      gap: 12px;\n",
              "    }\n",
              "\n",
              "    .colab-df-convert {\n",
              "      background-color: #E8F0FE;\n",
              "      border: none;\n",
              "      border-radius: 50%;\n",
              "      cursor: pointer;\n",
              "      display: none;\n",
              "      fill: #1967D2;\n",
              "      height: 32px;\n",
              "      padding: 0 0 0 0;\n",
              "      width: 32px;\n",
              "    }\n",
              "\n",
              "    .colab-df-convert:hover {\n",
              "      background-color: #E2EBFA;\n",
              "      box-shadow: 0px 1px 2px rgba(60, 64, 67, 0.3), 0px 1px 3px 1px rgba(60, 64, 67, 0.15);\n",
              "      fill: #174EA6;\n",
              "    }\n",
              "\n",
              "    .colab-df-buttons div {\n",
              "      margin-bottom: 4px;\n",
              "    }\n",
              "\n",
              "    [theme=dark] .colab-df-convert {\n",
              "      background-color: #3B4455;\n",
              "      fill: #D2E3FC;\n",
              "    }\n",
              "\n",
              "    [theme=dark] .colab-df-convert:hover {\n",
              "      background-color: #434B5C;\n",
              "      box-shadow: 0px 1px 3px 1px rgba(0, 0, 0, 0.15);\n",
              "      filter: drop-shadow(0px 1px 2px rgba(0, 0, 0, 0.3));\n",
              "      fill: #FFFFFF;\n",
              "    }\n",
              "  </style>\n",
              "\n",
              "    <script>\n",
              "      const buttonEl =\n",
              "        document.querySelector('#df-bd0e0f65-eeca-4aa8-97c2-12dd727d3ab2 button.colab-df-convert');\n",
              "      buttonEl.style.display =\n",
              "        google.colab.kernel.accessAllowed ? 'block' : 'none';\n",
              "\n",
              "      async function convertToInteractive(key) {\n",
              "        const element = document.querySelector('#df-bd0e0f65-eeca-4aa8-97c2-12dd727d3ab2');\n",
              "        const dataTable =\n",
              "          await google.colab.kernel.invokeFunction('convertToInteractive',\n",
              "                                                    [key], {});\n",
              "        if (!dataTable) return;\n",
              "\n",
              "        const docLinkHtml = 'Like what you see? Visit the ' +\n",
              "          '<a target=\"_blank\" href=https://colab.research.google.com/notebooks/data_table.ipynb>data table notebook</a>'\n",
              "          + ' to learn more about interactive tables.';\n",
              "        element.innerHTML = '';\n",
              "        dataTable['output_type'] = 'display_data';\n",
              "        await google.colab.output.renderOutput(dataTable, element);\n",
              "        const docLink = document.createElement('div');\n",
              "        docLink.innerHTML = docLinkHtml;\n",
              "        element.appendChild(docLink);\n",
              "      }\n",
              "    </script>\n",
              "  </div>\n",
              "\n",
              "\n",
              "<div id=\"df-c5043f28-1871-43c8-87a1-95b1b89e0863\">\n",
              "  <button class=\"colab-df-quickchart\" onclick=\"quickchart('df-c5043f28-1871-43c8-87a1-95b1b89e0863')\"\n",
              "            title=\"Suggest charts\"\n",
              "            style=\"display:none;\">\n",
              "\n",
              "<svg xmlns=\"http://www.w3.org/2000/svg\" height=\"24px\"viewBox=\"0 0 24 24\"\n",
              "     width=\"24px\">\n",
              "    <g>\n",
              "        <path d=\"M19 3H5c-1.1 0-2 .9-2 2v14c0 1.1.9 2 2 2h14c1.1 0 2-.9 2-2V5c0-1.1-.9-2-2-2zM9 17H7v-7h2v7zm4 0h-2V7h2v10zm4 0h-2v-4h2v4z\"/>\n",
              "    </g>\n",
              "</svg>\n",
              "  </button>\n",
              "\n",
              "<style>\n",
              "  .colab-df-quickchart {\n",
              "      --bg-color: #E8F0FE;\n",
              "      --fill-color: #1967D2;\n",
              "      --hover-bg-color: #E2EBFA;\n",
              "      --hover-fill-color: #174EA6;\n",
              "      --disabled-fill-color: #AAA;\n",
              "      --disabled-bg-color: #DDD;\n",
              "  }\n",
              "\n",
              "  [theme=dark] .colab-df-quickchart {\n",
              "      --bg-color: #3B4455;\n",
              "      --fill-color: #D2E3FC;\n",
              "      --hover-bg-color: #434B5C;\n",
              "      --hover-fill-color: #FFFFFF;\n",
              "      --disabled-bg-color: #3B4455;\n",
              "      --disabled-fill-color: #666;\n",
              "  }\n",
              "\n",
              "  .colab-df-quickchart {\n",
              "    background-color: var(--bg-color);\n",
              "    border: none;\n",
              "    border-radius: 50%;\n",
              "    cursor: pointer;\n",
              "    display: none;\n",
              "    fill: var(--fill-color);\n",
              "    height: 32px;\n",
              "    padding: 0;\n",
              "    width: 32px;\n",
              "  }\n",
              "\n",
              "  .colab-df-quickchart:hover {\n",
              "    background-color: var(--hover-bg-color);\n",
              "    box-shadow: 0 1px 2px rgba(60, 64, 67, 0.3), 0 1px 3px 1px rgba(60, 64, 67, 0.15);\n",
              "    fill: var(--button-hover-fill-color);\n",
              "  }\n",
              "\n",
              "  .colab-df-quickchart-complete:disabled,\n",
              "  .colab-df-quickchart-complete:disabled:hover {\n",
              "    background-color: var(--disabled-bg-color);\n",
              "    fill: var(--disabled-fill-color);\n",
              "    box-shadow: none;\n",
              "  }\n",
              "\n",
              "  .colab-df-spinner {\n",
              "    border: 2px solid var(--fill-color);\n",
              "    border-color: transparent;\n",
              "    border-bottom-color: var(--fill-color);\n",
              "    animation:\n",
              "      spin 1s steps(1) infinite;\n",
              "  }\n",
              "\n",
              "  @keyframes spin {\n",
              "    0% {\n",
              "      border-color: transparent;\n",
              "      border-bottom-color: var(--fill-color);\n",
              "      border-left-color: var(--fill-color);\n",
              "    }\n",
              "    20% {\n",
              "      border-color: transparent;\n",
              "      border-left-color: var(--fill-color);\n",
              "      border-top-color: var(--fill-color);\n",
              "    }\n",
              "    30% {\n",
              "      border-color: transparent;\n",
              "      border-left-color: var(--fill-color);\n",
              "      border-top-color: var(--fill-color);\n",
              "      border-right-color: var(--fill-color);\n",
              "    }\n",
              "    40% {\n",
              "      border-color: transparent;\n",
              "      border-right-color: var(--fill-color);\n",
              "      border-top-color: var(--fill-color);\n",
              "    }\n",
              "    60% {\n",
              "      border-color: transparent;\n",
              "      border-right-color: var(--fill-color);\n",
              "    }\n",
              "    80% {\n",
              "      border-color: transparent;\n",
              "      border-right-color: var(--fill-color);\n",
              "      border-bottom-color: var(--fill-color);\n",
              "    }\n",
              "    90% {\n",
              "      border-color: transparent;\n",
              "      border-bottom-color: var(--fill-color);\n",
              "    }\n",
              "  }\n",
              "</style>\n",
              "\n",
              "  <script>\n",
              "    async function quickchart(key) {\n",
              "      const quickchartButtonEl =\n",
              "        document.querySelector('#' + key + ' button');\n",
              "      quickchartButtonEl.disabled = true;  // To prevent multiple clicks.\n",
              "      quickchartButtonEl.classList.add('colab-df-spinner');\n",
              "      try {\n",
              "        const charts = await google.colab.kernel.invokeFunction(\n",
              "            'suggestCharts', [key], {});\n",
              "      } catch (error) {\n",
              "        console.error('Error during call to suggestCharts:', error);\n",
              "      }\n",
              "      quickchartButtonEl.classList.remove('colab-df-spinner');\n",
              "      quickchartButtonEl.classList.add('colab-df-quickchart-complete');\n",
              "    }\n",
              "    (() => {\n",
              "      let quickchartButtonEl =\n",
              "        document.querySelector('#df-c5043f28-1871-43c8-87a1-95b1b89e0863 button');\n",
              "      quickchartButtonEl.style.display =\n",
              "        google.colab.kernel.accessAllowed ? 'block' : 'none';\n",
              "    })();\n",
              "  </script>\n",
              "</div>\n",
              "\n",
              "    </div>\n",
              "  </div>\n"
            ],
            "application/vnd.google.colaboratory.intrinsic+json": {
              "type": "dataframe",
              "summary": "{\n  \"name\": \"df\",\n  \"rows\": 8,\n  \"fields\": [\n    {\n      \"column\": \"Area Code\",\n      \"properties\": {\n        \"dtype\": \"number\",\n        \"std\": 3554.8247185478067,\n        \"min\": 1.0,\n        \"max\": 9656.0,\n        \"num_unique_values\": 8,\n        \"samples\": [\n          821.806338028169,\n          153.5,\n          9656.0\n        ],\n        \"semantic_type\": \"\",\n        \"description\": \"\"\n      }\n    },\n    {\n      \"column\": \"Months Code\",\n      \"properties\": {\n        \"dtype\": \"number\",\n        \"std\": 2769.322287795809,\n        \"min\": 6.038254992105128,\n        \"max\": 9656.0,\n        \"num_unique_values\": 8,\n        \"samples\": [\n          7009.882352941177,\n          7009.0,\n          9656.0\n        ],\n        \"semantic_type\": \"\",\n        \"description\": \"\"\n      }\n    },\n    {\n      \"column\": \"Element Code\",\n      \"properties\": {\n        \"dtype\": \"number\",\n        \"std\": 2565.0336849433575,\n        \"min\": 596.5308899303694,\n        \"max\": 9656.0,\n        \"num_unique_values\": 5,\n        \"samples\": [\n          6674.5,\n          7271.0,\n          596.5308899303694\n        ],\n        \"semantic_type\": \"\",\n        \"description\": \"\"\n      }\n    },\n    {\n      \"column\": \"Y2010\",\n      \"properties\": {\n        \"dtype\": \"number\",\n        \"std\": 2981.9562523065715,\n        \"min\": -6.072,\n        \"max\": 8435.0,\n        \"num_unique_values\": 8,\n        \"samples\": [\n          0.8845043272080616,\n          0.771,\n          8435.0\n        ],\n        \"semantic_type\": \"\",\n        \"description\": \"\"\n      }\n    },\n    {\n      \"column\": \"Y2011\",\n      \"properties\": {\n        \"dtype\": \"number\",\n        \"std\": 2982.6642231179467,\n        \"min\": -4.854,\n        \"max\": 8437.0,\n        \"num_unique_values\": 8,\n        \"samples\": [\n          0.7684878511319189,\n          0.64,\n          8437.0\n        ],\n        \"semantic_type\": \"\",\n        \"description\": \"\"\n      }\n    },\n    {\n      \"column\": \"Y2012\",\n      \"properties\": {\n        \"dtype\": \"number\",\n        \"std\": 2951.7287993089863,\n        \"min\": -5.785,\n        \"max\": 8350.0,\n        \"num_unique_values\": 8,\n        \"samples\": [\n          0.7889297005988024,\n          0.651,\n          8350.0\n        ],\n        \"semantic_type\": \"\",\n        \"description\": \"\"\n      }\n    },\n    {\n      \"column\": \"Y2013\",\n      \"properties\": {\n        \"dtype\": \"number\",\n        \"std\": 2979.047597879678,\n        \"min\": -3.642,\n        \"max\": 8427.0,\n        \"num_unique_values\": 8,\n        \"samples\": [\n          0.8296469680787943,\n          0.719,\n          8427.0\n        ],\n        \"semantic_type\": \"\",\n        \"description\": \"\"\n      }\n    },\n    {\n      \"column\": \"Y2014\",\n      \"properties\": {\n        \"dtype\": \"number\",\n        \"std\": 2961.1914355265403,\n        \"min\": -5.367,\n        \"max\": 8377.0,\n        \"num_unique_values\": 8,\n        \"samples\": [\n          0.9138723886832996,\n          0.745,\n          8377.0\n        ],\n        \"semantic_type\": \"\",\n        \"description\": \"\"\n      }\n    },\n    {\n      \"column\": \"Y2015\",\n      \"properties\": {\n        \"dtype\": \"number\",\n        \"std\": 2955.654233267077,\n        \"min\": -4.068,\n        \"max\": 8361.0,\n        \"num_unique_values\": 8,\n        \"samples\": [\n          1.0188156919028823,\n          0.858,\n          8361.0\n        ],\n        \"semantic_type\": \"\",\n        \"description\": \"\"\n      }\n    },\n    {\n      \"column\": \"Y2016\",\n      \"properties\": {\n        \"dtype\": \"number\",\n        \"std\": 2950.858501367082,\n        \"min\": -3.306,\n        \"max\": 8348.0,\n        \"num_unique_values\": 8,\n        \"samples\": [\n          1.0814910158121707,\n          0.949,\n          8348.0\n        ],\n        \"semantic_type\": \"\",\n        \"description\": \"\"\n      }\n    },\n    {\n      \"column\": \"Y2017\",\n      \"properties\": {\n        \"dtype\": \"number\",\n        \"std\": 2957.410412060851,\n        \"min\": -3.584,\n        \"max\": 8366.0,\n        \"num_unique_values\": 8,\n        \"samples\": [\n          1.0033422185034664,\n          0.865,\n          8366.0\n        ],\n        \"semantic_type\": \"\",\n        \"description\": \"\"\n      }\n    },\n    {\n      \"column\": \"Y2018\",\n      \"properties\": {\n        \"dtype\": \"number\",\n        \"std\": 2951.239260217458,\n        \"min\": -2.216,\n        \"max\": 8349.0,\n        \"num_unique_values\": 8,\n        \"samples\": [\n          1.0108324350221585,\n          0.81,\n          8349.0\n        ],\n        \"semantic_type\": \"\",\n        \"description\": \"\"\n      }\n    },\n    {\n      \"column\": \"Y2019\",\n      \"properties\": {\n        \"dtype\": \"number\",\n        \"std\": 2956.999499855191,\n        \"min\": -2.644,\n        \"max\": 8365.0,\n        \"num_unique_values\": 8,\n        \"samples\": [\n          1.0945994022713688,\n          0.939,\n          8365.0\n        ],\n        \"semantic_type\": \"\",\n        \"description\": \"\"\n      }\n    }\n  ]\n}"
            }
          },
          "metadata": {},
          "execution_count": 5
        }
      ]
    },
    {
      "cell_type": "markdown",
      "source": [
        "# **DATA CLEANING**"
      ],
      "metadata": {
        "id": "-4STXXeGmzgs"
      }
    },
    {
      "cell_type": "markdown",
      "source": [
        "## Checking null/missing values:"
      ],
      "metadata": {
        "id": "z_5EZItB-tV3"
      }
    },
    {
      "cell_type": "code",
      "source": [
        "df.isnull().sum()"
      ],
      "metadata": {
        "colab": {
          "base_uri": "https://localhost:8080/",
          "height": 617
        },
        "id": "0sQO-fcDshoC",
        "outputId": "9ee53038-98ec-466a-b6e0-560582396485"
      },
      "execution_count": 6,
      "outputs": [
        {
          "output_type": "execute_result",
          "data": {
            "text/plain": [
              "Area Code          0\n",
              "Area               0\n",
              "Months Code        0\n",
              "Months             0\n",
              "Element Code       0\n",
              "Element            0\n",
              "Unit               0\n",
              "Y2010           1221\n",
              "Y2011           1219\n",
              "Y2012           1306\n",
              "Y2013           1229\n",
              "Y2014           1279\n",
              "Y2015           1295\n",
              "Y2016           1308\n",
              "Y2017           1290\n",
              "Y2018           1307\n",
              "Y2019           1291\n",
              "dtype: int64"
            ],
            "text/html": [
              "<div>\n",
              "<style scoped>\n",
              "    .dataframe tbody tr th:only-of-type {\n",
              "        vertical-align: middle;\n",
              "    }\n",
              "\n",
              "    .dataframe tbody tr th {\n",
              "        vertical-align: top;\n",
              "    }\n",
              "\n",
              "    .dataframe thead th {\n",
              "        text-align: right;\n",
              "    }\n",
              "</style>\n",
              "<table border=\"1\" class=\"dataframe\">\n",
              "  <thead>\n",
              "    <tr style=\"text-align: right;\">\n",
              "      <th></th>\n",
              "      <th>0</th>\n",
              "    </tr>\n",
              "  </thead>\n",
              "  <tbody>\n",
              "    <tr>\n",
              "      <th>Area Code</th>\n",
              "      <td>0</td>\n",
              "    </tr>\n",
              "    <tr>\n",
              "      <th>Area</th>\n",
              "      <td>0</td>\n",
              "    </tr>\n",
              "    <tr>\n",
              "      <th>Months Code</th>\n",
              "      <td>0</td>\n",
              "    </tr>\n",
              "    <tr>\n",
              "      <th>Months</th>\n",
              "      <td>0</td>\n",
              "    </tr>\n",
              "    <tr>\n",
              "      <th>Element Code</th>\n",
              "      <td>0</td>\n",
              "    </tr>\n",
              "    <tr>\n",
              "      <th>Element</th>\n",
              "      <td>0</td>\n",
              "    </tr>\n",
              "    <tr>\n",
              "      <th>Unit</th>\n",
              "      <td>0</td>\n",
              "    </tr>\n",
              "    <tr>\n",
              "      <th>Y2010</th>\n",
              "      <td>1221</td>\n",
              "    </tr>\n",
              "    <tr>\n",
              "      <th>Y2011</th>\n",
              "      <td>1219</td>\n",
              "    </tr>\n",
              "    <tr>\n",
              "      <th>Y2012</th>\n",
              "      <td>1306</td>\n",
              "    </tr>\n",
              "    <tr>\n",
              "      <th>Y2013</th>\n",
              "      <td>1229</td>\n",
              "    </tr>\n",
              "    <tr>\n",
              "      <th>Y2014</th>\n",
              "      <td>1279</td>\n",
              "    </tr>\n",
              "    <tr>\n",
              "      <th>Y2015</th>\n",
              "      <td>1295</td>\n",
              "    </tr>\n",
              "    <tr>\n",
              "      <th>Y2016</th>\n",
              "      <td>1308</td>\n",
              "    </tr>\n",
              "    <tr>\n",
              "      <th>Y2017</th>\n",
              "      <td>1290</td>\n",
              "    </tr>\n",
              "    <tr>\n",
              "      <th>Y2018</th>\n",
              "      <td>1307</td>\n",
              "    </tr>\n",
              "    <tr>\n",
              "      <th>Y2019</th>\n",
              "      <td>1291</td>\n",
              "    </tr>\n",
              "  </tbody>\n",
              "</table>\n",
              "</div><br><label><b>dtype:</b> int64</label>"
            ]
          },
          "metadata": {},
          "execution_count": 6
        }
      ]
    },
    {
      "cell_type": "code",
      "source": [
        "# Filling missing values with the mean for each year column\n",
        "df.fillna(df[['Y2010','Y2011','Y2012','Y2013','Y2014','Y2015','Y2016','Y2017','Y2018','Y2019']].mean(), inplace=True)"
      ],
      "metadata": {
        "id": "ngE2pm5O3Sl0"
      },
      "execution_count": 7,
      "outputs": []
    },
    {
      "cell_type": "code",
      "source": [
        "df.isnull().sum()"
      ],
      "metadata": {
        "colab": {
          "base_uri": "https://localhost:8080/",
          "height": 617
        },
        "id": "GzSLTUjyuf5_",
        "outputId": "e88bcbc0-c9b2-4f28-b39d-7153e4e4c470"
      },
      "execution_count": 8,
      "outputs": [
        {
          "output_type": "execute_result",
          "data": {
            "text/plain": [
              "Area Code       0\n",
              "Area            0\n",
              "Months Code     0\n",
              "Months          0\n",
              "Element Code    0\n",
              "Element         0\n",
              "Unit            0\n",
              "Y2010           0\n",
              "Y2011           0\n",
              "Y2012           0\n",
              "Y2013           0\n",
              "Y2014           0\n",
              "Y2015           0\n",
              "Y2016           0\n",
              "Y2017           0\n",
              "Y2018           0\n",
              "Y2019           0\n",
              "dtype: int64"
            ],
            "text/html": [
              "<div>\n",
              "<style scoped>\n",
              "    .dataframe tbody tr th:only-of-type {\n",
              "        vertical-align: middle;\n",
              "    }\n",
              "\n",
              "    .dataframe tbody tr th {\n",
              "        vertical-align: top;\n",
              "    }\n",
              "\n",
              "    .dataframe thead th {\n",
              "        text-align: right;\n",
              "    }\n",
              "</style>\n",
              "<table border=\"1\" class=\"dataframe\">\n",
              "  <thead>\n",
              "    <tr style=\"text-align: right;\">\n",
              "      <th></th>\n",
              "      <th>0</th>\n",
              "    </tr>\n",
              "  </thead>\n",
              "  <tbody>\n",
              "    <tr>\n",
              "      <th>Area Code</th>\n",
              "      <td>0</td>\n",
              "    </tr>\n",
              "    <tr>\n",
              "      <th>Area</th>\n",
              "      <td>0</td>\n",
              "    </tr>\n",
              "    <tr>\n",
              "      <th>Months Code</th>\n",
              "      <td>0</td>\n",
              "    </tr>\n",
              "    <tr>\n",
              "      <th>Months</th>\n",
              "      <td>0</td>\n",
              "    </tr>\n",
              "    <tr>\n",
              "      <th>Element Code</th>\n",
              "      <td>0</td>\n",
              "    </tr>\n",
              "    <tr>\n",
              "      <th>Element</th>\n",
              "      <td>0</td>\n",
              "    </tr>\n",
              "    <tr>\n",
              "      <th>Unit</th>\n",
              "      <td>0</td>\n",
              "    </tr>\n",
              "    <tr>\n",
              "      <th>Y2010</th>\n",
              "      <td>0</td>\n",
              "    </tr>\n",
              "    <tr>\n",
              "      <th>Y2011</th>\n",
              "      <td>0</td>\n",
              "    </tr>\n",
              "    <tr>\n",
              "      <th>Y2012</th>\n",
              "      <td>0</td>\n",
              "    </tr>\n",
              "    <tr>\n",
              "      <th>Y2013</th>\n",
              "      <td>0</td>\n",
              "    </tr>\n",
              "    <tr>\n",
              "      <th>Y2014</th>\n",
              "      <td>0</td>\n",
              "    </tr>\n",
              "    <tr>\n",
              "      <th>Y2015</th>\n",
              "      <td>0</td>\n",
              "    </tr>\n",
              "    <tr>\n",
              "      <th>Y2016</th>\n",
              "      <td>0</td>\n",
              "    </tr>\n",
              "    <tr>\n",
              "      <th>Y2017</th>\n",
              "      <td>0</td>\n",
              "    </tr>\n",
              "    <tr>\n",
              "      <th>Y2018</th>\n",
              "      <td>0</td>\n",
              "    </tr>\n",
              "    <tr>\n",
              "      <th>Y2019</th>\n",
              "      <td>0</td>\n",
              "    </tr>\n",
              "  </tbody>\n",
              "</table>\n",
              "</div><br><label><b>dtype:</b> int64</label>"
            ]
          },
          "metadata": {},
          "execution_count": 8
        }
      ]
    },
    {
      "cell_type": "code",
      "source": [
        "df.shape"
      ],
      "metadata": {
        "colab": {
          "base_uri": "https://localhost:8080/"
        },
        "id": "FE2Gz_hSbXbA",
        "outputId": "08392013-5f41-45b5-af24-e1f93e5788de"
      },
      "execution_count": 9,
      "outputs": [
        {
          "output_type": "execute_result",
          "data": {
            "text/plain": [
              "(9656, 17)"
            ]
          },
          "metadata": {},
          "execution_count": 9
        }
      ]
    },
    {
      "cell_type": "markdown",
      "source": [
        "## Checking for duplicates:"
      ],
      "metadata": {
        "id": "Jd8xCJOZ_FPx"
      }
    },
    {
      "cell_type": "code",
      "source": [
        "duplicate_count = df.duplicated().sum()\n",
        "print(f\"\\nNumber of duplicate rows: {duplicate_count}\")"
      ],
      "metadata": {
        "id": "D90nJaJ7wcsS",
        "colab": {
          "base_uri": "https://localhost:8080/"
        },
        "outputId": "5cae13f0-7612-4c27-9a99-108fe734009b"
      },
      "execution_count": 10,
      "outputs": [
        {
          "output_type": "stream",
          "name": "stdout",
          "text": [
            "\n",
            "Number of duplicate rows: 0\n"
          ]
        }
      ]
    },
    {
      "cell_type": "code",
      "source": [
        "df.shape"
      ],
      "metadata": {
        "colab": {
          "base_uri": "https://localhost:8080/"
        },
        "id": "UTG8yhmYbf5i",
        "outputId": "0e909502-3e22-4e72-9ed7-e00740a6c826"
      },
      "execution_count": 11,
      "outputs": [
        {
          "output_type": "execute_result",
          "data": {
            "text/plain": [
              "(9656, 17)"
            ]
          },
          "metadata": {},
          "execution_count": 11
        }
      ]
    },
    {
      "cell_type": "code",
      "source": [
        "df.nunique()"
      ],
      "metadata": {
        "id": "FKZ6R7x1gEb_",
        "colab": {
          "base_uri": "https://localhost:8080/",
          "height": 617
        },
        "outputId": "abf2ea6b-7764-4f96-88d6-0764fa696372"
      },
      "execution_count": 12,
      "outputs": [
        {
          "output_type": "execute_result",
          "data": {
            "text/plain": [
              "Area Code        284\n",
              "Area             284\n",
              "Months Code       17\n",
              "Months            17\n",
              "Element Code       2\n",
              "Element            2\n",
              "Unit               1\n",
              "Y2010           2746\n",
              "Y2011           2544\n",
              "Y2012           2638\n",
              "Y2013           2412\n",
              "Y2014           2528\n",
              "Y2015           2653\n",
              "Y2016           2658\n",
              "Y2017           2603\n",
              "Y2018           2721\n",
              "Y2019           2698\n",
              "dtype: int64"
            ],
            "text/html": [
              "<div>\n",
              "<style scoped>\n",
              "    .dataframe tbody tr th:only-of-type {\n",
              "        vertical-align: middle;\n",
              "    }\n",
              "\n",
              "    .dataframe tbody tr th {\n",
              "        vertical-align: top;\n",
              "    }\n",
              "\n",
              "    .dataframe thead th {\n",
              "        text-align: right;\n",
              "    }\n",
              "</style>\n",
              "<table border=\"1\" class=\"dataframe\">\n",
              "  <thead>\n",
              "    <tr style=\"text-align: right;\">\n",
              "      <th></th>\n",
              "      <th>0</th>\n",
              "    </tr>\n",
              "  </thead>\n",
              "  <tbody>\n",
              "    <tr>\n",
              "      <th>Area Code</th>\n",
              "      <td>284</td>\n",
              "    </tr>\n",
              "    <tr>\n",
              "      <th>Area</th>\n",
              "      <td>284</td>\n",
              "    </tr>\n",
              "    <tr>\n",
              "      <th>Months Code</th>\n",
              "      <td>17</td>\n",
              "    </tr>\n",
              "    <tr>\n",
              "      <th>Months</th>\n",
              "      <td>17</td>\n",
              "    </tr>\n",
              "    <tr>\n",
              "      <th>Element Code</th>\n",
              "      <td>2</td>\n",
              "    </tr>\n",
              "    <tr>\n",
              "      <th>Element</th>\n",
              "      <td>2</td>\n",
              "    </tr>\n",
              "    <tr>\n",
              "      <th>Unit</th>\n",
              "      <td>1</td>\n",
              "    </tr>\n",
              "    <tr>\n",
              "      <th>Y2010</th>\n",
              "      <td>2746</td>\n",
              "    </tr>\n",
              "    <tr>\n",
              "      <th>Y2011</th>\n",
              "      <td>2544</td>\n",
              "    </tr>\n",
              "    <tr>\n",
              "      <th>Y2012</th>\n",
              "      <td>2638</td>\n",
              "    </tr>\n",
              "    <tr>\n",
              "      <th>Y2013</th>\n",
              "      <td>2412</td>\n",
              "    </tr>\n",
              "    <tr>\n",
              "      <th>Y2014</th>\n",
              "      <td>2528</td>\n",
              "    </tr>\n",
              "    <tr>\n",
              "      <th>Y2015</th>\n",
              "      <td>2653</td>\n",
              "    </tr>\n",
              "    <tr>\n",
              "      <th>Y2016</th>\n",
              "      <td>2658</td>\n",
              "    </tr>\n",
              "    <tr>\n",
              "      <th>Y2017</th>\n",
              "      <td>2603</td>\n",
              "    </tr>\n",
              "    <tr>\n",
              "      <th>Y2018</th>\n",
              "      <td>2721</td>\n",
              "    </tr>\n",
              "    <tr>\n",
              "      <th>Y2019</th>\n",
              "      <td>2698</td>\n",
              "    </tr>\n",
              "  </tbody>\n",
              "</table>\n",
              "</div><br><label><b>dtype:</b> int64</label>"
            ]
          },
          "metadata": {},
          "execution_count": 12
        }
      ]
    },
    {
      "cell_type": "markdown",
      "source": [
        "\n",
        "\n",
        "---\n",
        "\n",
        "\n",
        "\n",
        "# **DATA ANALYSIS**\n",
        "\n",
        "\n"
      ],
      "metadata": {
        "id": "YIY3bbOihEq7"
      }
    },
    {
      "cell_type": "markdown",
      "source": [
        "#  **Univariate Data Analysis -**"
      ],
      "metadata": {
        "id": "XdZS_3Ng_Iq6"
      }
    },
    {
      "cell_type": "code",
      "source": [
        "df.columns"
      ],
      "metadata": {
        "id": "R1Q0ayPwgIjN",
        "colab": {
          "base_uri": "https://localhost:8080/"
        },
        "outputId": "035fdc50-c3b0-4ac6-b713-3f05f26e5b78"
      },
      "execution_count": 13,
      "outputs": [
        {
          "output_type": "execute_result",
          "data": {
            "text/plain": [
              "Index(['Area Code', 'Area', 'Months Code', 'Months', 'Element Code', 'Element',\n",
              "       'Unit', 'Y2010', 'Y2011', 'Y2012', 'Y2013', 'Y2014', 'Y2015', 'Y2016',\n",
              "       'Y2017', 'Y2018', 'Y2019'],\n",
              "      dtype='object')"
            ]
          },
          "metadata": {},
          "execution_count": 13
        }
      ]
    },
    {
      "cell_type": "markdown",
      "source": [
        "## **Numerical data analysis**\n",
        "\n",
        "\n"
      ],
      "metadata": {
        "id": "eq-ub3CSRJE4"
      }
    },
    {
      "cell_type": "code",
      "source": [
        "from collections import defaultdict\n",
        "num_cols = [col for col in df.columns if df[col].dtypes==\"int64\" or  df[col].dtypes==\"float64\"]\n",
        "num_cols"
      ],
      "metadata": {
        "id": "Q82a7YTfhnFq",
        "colab": {
          "base_uri": "https://localhost:8080/"
        },
        "outputId": "5abaa2da-3d84-47ee-9092-9478677a7b0d"
      },
      "execution_count": 14,
      "outputs": [
        {
          "output_type": "execute_result",
          "data": {
            "text/plain": [
              "['Area Code',\n",
              " 'Months Code',\n",
              " 'Element Code',\n",
              " 'Y2010',\n",
              " 'Y2011',\n",
              " 'Y2012',\n",
              " 'Y2013',\n",
              " 'Y2014',\n",
              " 'Y2015',\n",
              " 'Y2016',\n",
              " 'Y2017',\n",
              " 'Y2018',\n",
              " 'Y2019']"
            ]
          },
          "metadata": {},
          "execution_count": 14
        }
      ]
    },
    {
      "cell_type": "code",
      "source": [
        "df[\"Y2010\"].value_counts()"
      ],
      "metadata": {
        "id": "NyaDS4EXiA8i",
        "colab": {
          "base_uri": "https://localhost:8080/",
          "height": 489
        },
        "outputId": "354d4740-ec0b-4179-a12b-6e0d97b60401"
      },
      "execution_count": 15,
      "outputs": [
        {
          "output_type": "execute_result",
          "data": {
            "text/plain": [
              "Y2010\n",
              "0.884504    1221\n",
              "0.385000      19\n",
              "0.371000      17\n",
              "0.452000      16\n",
              "0.324000      16\n",
              "            ... \n",
              "2.125000       1\n",
              "3.844000       1\n",
              "0.190000       1\n",
              "0.063000       1\n",
              "2.149000       1\n",
              "Name: count, Length: 2746, dtype: int64"
            ],
            "text/html": [
              "<div>\n",
              "<style scoped>\n",
              "    .dataframe tbody tr th:only-of-type {\n",
              "        vertical-align: middle;\n",
              "    }\n",
              "\n",
              "    .dataframe tbody tr th {\n",
              "        vertical-align: top;\n",
              "    }\n",
              "\n",
              "    .dataframe thead th {\n",
              "        text-align: right;\n",
              "    }\n",
              "</style>\n",
              "<table border=\"1\" class=\"dataframe\">\n",
              "  <thead>\n",
              "    <tr style=\"text-align: right;\">\n",
              "      <th></th>\n",
              "      <th>count</th>\n",
              "    </tr>\n",
              "    <tr>\n",
              "      <th>Y2010</th>\n",
              "      <th></th>\n",
              "    </tr>\n",
              "  </thead>\n",
              "  <tbody>\n",
              "    <tr>\n",
              "      <th>0.884504</th>\n",
              "      <td>1221</td>\n",
              "    </tr>\n",
              "    <tr>\n",
              "      <th>0.385000</th>\n",
              "      <td>19</td>\n",
              "    </tr>\n",
              "    <tr>\n",
              "      <th>0.371000</th>\n",
              "      <td>17</td>\n",
              "    </tr>\n",
              "    <tr>\n",
              "      <th>0.452000</th>\n",
              "      <td>16</td>\n",
              "    </tr>\n",
              "    <tr>\n",
              "      <th>0.324000</th>\n",
              "      <td>16</td>\n",
              "    </tr>\n",
              "    <tr>\n",
              "      <th>...</th>\n",
              "      <td>...</td>\n",
              "    </tr>\n",
              "    <tr>\n",
              "      <th>2.125000</th>\n",
              "      <td>1</td>\n",
              "    </tr>\n",
              "    <tr>\n",
              "      <th>3.844000</th>\n",
              "      <td>1</td>\n",
              "    </tr>\n",
              "    <tr>\n",
              "      <th>0.190000</th>\n",
              "      <td>1</td>\n",
              "    </tr>\n",
              "    <tr>\n",
              "      <th>0.063000</th>\n",
              "      <td>1</td>\n",
              "    </tr>\n",
              "    <tr>\n",
              "      <th>2.149000</th>\n",
              "      <td>1</td>\n",
              "    </tr>\n",
              "  </tbody>\n",
              "</table>\n",
              "<p>2746 rows × 1 columns</p>\n",
              "</div><br><label><b>dtype:</b> int64</label>"
            ]
          },
          "metadata": {},
          "execution_count": 15
        }
      ]
    },
    {
      "cell_type": "code",
      "source": [
        "sns.histplot(data=df,x=\"Y2010\",color=\"blue\")"
      ],
      "metadata": {
        "id": "jnKN3M5yjZUu",
        "colab": {
          "base_uri": "https://localhost:8080/",
          "height": 470
        },
        "outputId": "c5b9272d-35e0-4545-b6f8-6c9cc72a3d8f"
      },
      "execution_count": 16,
      "outputs": [
        {
          "output_type": "execute_result",
          "data": {
            "text/plain": [
              "<Axes: xlabel='Y2010', ylabel='Count'>"
            ]
          },
          "metadata": {},
          "execution_count": 16
        },
        {
          "output_type": "display_data",
          "data": {
            "text/plain": [
              "<Figure size 640x480 with 1 Axes>"
            ],
            "image/png": "[encoded data removed]"
          },
          "metadata": {}
        }
      ]
    },
    {
      "cell_type": "code",
      "source": [
        "sns.histplot(data=df, x=\"Y2010\", bins=20, color=\"pink\", kde=True)"
      ],
      "metadata": {
        "id": "rZQ2KggzzTe-",
        "colab": {
          "base_uri": "https://localhost:8080/",
          "height": 466
        },
        "outputId": "f23e3b5d-b4af-4b34-b0aa-5b31a89cdde1"
      },
      "execution_count": 17,
      "outputs": [
        {
          "output_type": "execute_result",
          "data": {
            "text/plain": [
              "<Axes: xlabel='Y2010', ylabel='Count'>"
            ]
          },
          "metadata": {},
          "execution_count": 17
        },
        {
          "output_type": "display_data",
          "data": {
            "text/plain": [
              "<Figure size 640x480 with 1 Axes>"
            ],
            "image/png": "[encoded data removed]"
          },
          "metadata": {}
        }
      ]
    },
    {
      "cell_type": "code",
      "source": [
        "# Creating box plot for 'Y2015' column  in the dataframe\n",
        "Column='Y2010'\n",
        "plt.figure(figsize=(10, 5))\n",
        "sns.boxplot(x=df[Column].dropna())\n",
        "plt.show()"
      ],
      "metadata": {
        "colab": {
          "base_uri": "https://localhost:8080/",
          "height": 520
        },
        "id": "luoiUeO2X9MO",
        "outputId": "10c23504-3f23-47f6-f612-dc19d320ad3a"
      },
      "execution_count": 18,
      "outputs": [
        {
          "output_type": "stream",
          "name": "stderr",
          "text": [
            "/usr/local/lib/python3.10/dist-packages/seaborn/categorical.py:640: FutureWarning: SeriesGroupBy.grouper is deprecated and will be removed in a future version of pandas.\n",
            "  positions = grouped.grouper.result_index.to_numpy(dtype=float)\n"
          ]
        },
        {
          "output_type": "display_data",
          "data": {
            "text/plain": [
              "<Figure size 1000x500 with 1 Axes>"
            ],
            "image/png": "[encoded data removed]"
          },
          "metadata": {}
        }
      ]
    },
    {
      "cell_type": "code",
      "source": [
        "# Create a histogram\n",
        "plt.figure(figsize=(10, 5))\n",
        "plt.hist(df[Column].dropna(), bins=20, edgecolor='black')\n",
        "plt.title(f'Histogram of {Column}')\n",
        "plt.xlabel(Column)\n",
        "plt.ylabel('Frequency')\n",
        "plt.show()"
      ],
      "metadata": {
        "colab": {
          "base_uri": "https://localhost:8080/",
          "height": 487
        },
        "id": "7NHcpP4vbaBk",
        "outputId": "8c6857a1-d39a-4c72-8b76-767f7055f74a"
      },
      "execution_count": 19,
      "outputs": [
        {
          "output_type": "display_data",
          "data": {
            "text/plain": [
              "<Figure size 1000x500 with 1 Axes>"
            ],
            "image/png": "[encoded data removed]"
          },
          "metadata": {}
        }
      ]
    },
    {
      "cell_type": "code",
      "source": [
        "sns.displot(df['Y2010'])\n",
        "plt.title('Distribution of Temperature Change in year 2010')\n",
        "plt.show()"
      ],
      "metadata": {
        "colab": {
          "base_uri": "https://localhost:8080/",
          "height": 525
        },
        "id": "Teov9Z85sCi8",
        "outputId": "5696a28d-689e-4b51-a3ca-1dacc0062529"
      },
      "execution_count": 20,
      "outputs": [
        {
          "output_type": "display_data",
          "data": {
            "text/plain": [
              "<Figure size 500x500 with 1 Axes>"
            ],
            "image/png": "[encoded data removed]"
          },
          "metadata": {}
        }
      ]
    },
    {
      "cell_type": "code",
      "source": [
        "df['Y2015'].skew()"
      ],
      "metadata": {
        "colab": {
          "base_uri": "https://localhost:8080/"
        },
        "id": "GkE9lqVvsfJs",
        "outputId": "9f35849e-8819-4124-c777-e8d8b27dcf6d"
      },
      "execution_count": 21,
      "outputs": [
        {
          "output_type": "execute_result",
          "data": {
            "text/plain": [
              "1.7211839052560032"
            ]
          },
          "metadata": {},
          "execution_count": 21
        }
      ]
    },
    {
      "cell_type": "code",
      "source": [
        "import matplotlib.pyplot as plt\n",
        "\n",
        "# Univariate analysis - Descriptive statistics for numerical columns\n",
        "numerical_columns = df.select_dtypes(include=['float64']).columns\n",
        "desc_stats = df[numerical_columns].describe()\n",
        "\n",
        "# Plot histograms for each numerical column\n",
        "df[numerical_columns].hist(figsize=(16, 12), bins=20, edgecolor='black')\n",
        "plt.suptitle('Univariate Analysis - Histograms of Numerical Columns', fontsize=16)\n",
        "plt.tight_layout(rect=[0, 0, 1, 0.96])\n",
        "\n",
        "# Display descriptive statistics\n",
        "desc_stats"
      ],
      "metadata": {
        "id": "vz30DGc01Ke1",
        "colab": {
          "base_uri": "https://localhost:8080/",
          "height": 1000
        },
        "outputId": "3bccb83a-4dc5-423e-f8e1-9141a1be7ea7"
      },
      "execution_count": 22,
      "outputs": [
        {
          "output_type": "execute_result",
          "data": {
            "text/plain": [
              "             Y2010        Y2011        Y2012        Y2013        Y2014  \\\n",
              "count  9656.000000  9656.000000  9656.000000  9656.000000  9656.000000   \n",
              "mean      0.884504     0.768488     0.788930     0.829647     0.913872   \n",
              "std       0.820890     0.701647     0.798408     0.666780     0.759970   \n",
              "min      -6.072000    -4.854000    -5.785000    -3.642000    -5.367000   \n",
              "25%       0.432000     0.396000     0.408000     0.445750     0.457000   \n",
              "50%       0.884504     0.750000     0.777000     0.829647     0.863000   \n",
              "75%       1.196000     1.014000     1.017000     1.059000     1.106000   \n",
              "max       7.190000     6.531000    10.826000     6.738000    11.759000   \n",
              "\n",
              "             Y2015        Y2016        Y2017        Y2018        Y2019  \n",
              "count  9656.000000  9656.000000  9656.000000  9656.000000  9656.000000  \n",
              "mean      1.018816     1.081491     1.003342     1.010832     1.094599  \n",
              "std       0.781815     0.815804     0.753763     0.811018     0.794813  \n",
              "min      -4.068000    -3.306000    -3.584000    -2.216000    -2.644000  \n",
              "25%       0.481000     0.510000     0.487000     0.477000     0.507000  \n",
              "50%       1.004500     1.081491     1.003342     0.963000     1.094599  \n",
              "75%       1.290000     1.406000     1.281000     1.248250     1.411000  \n",
              "max       7.590000    10.478000     7.389000     9.228000     7.215000  "
            ],
            "text/html": [
              "\n",
              "  <div id=\"df-b3aa855d-570a-48b5-bf43-e0317d4aa161\" class=\"colab-df-container\">\n",
              "    <div>\n",
              "<style scoped>\n",
              "    .dataframe tbody tr th:only-of-type {\n",
              "        vertical-align: middle;\n",
              "    }\n",
              "\n",
              "    .dataframe tbody tr th {\n",
              "        vertical-align: top;\n",
              "    }\n",
              "\n",
              "    .dataframe thead th {\n",
              "        text-align: right;\n",
              "    }\n",
              "</style>\n",
              "<table border=\"1\" class=\"dataframe\">\n",
              "  <thead>\n",
              "    <tr style=\"text-align: right;\">\n",
              "      <th></th>\n",
              "      <th>Y2010</th>\n",
              "      <th>Y2011</th>\n",
              "      <th>Y2012</th>\n",
              "      <th>Y2013</th>\n",
              "      <th>Y2014</th>\n",
              "      <th>Y2015</th>\n",
              "      <th>Y2016</th>\n",
              "      <th>Y2017</th>\n",
              "      <th>Y2018</th>\n",
              "      <th>Y2019</th>\n",
              "    </tr>\n",
              "  </thead>\n",
              "  <tbody>\n",
              "    <tr>\n",
              "      <th>count</th>\n",
              "      <td>9656.000000</td>\n",
              "      <td>9656.000000</td>\n",
              "      <td>9656.000000</td>\n",
              "      <td>9656.000000</td>\n",
              "      <td>9656.000000</td>\n",
              "      <td>9656.000000</td>\n",
              "      <td>9656.000000</td>\n",
              "      <td>9656.000000</td>\n",
              "      <td>9656.000000</td>\n",
              "      <td>9656.000000</td>\n",
              "    </tr>\n",
              "    <tr>\n",
              "      <th>mean</th>\n",
              "      <td>0.884504</td>\n",
              "      <td>0.768488</td>\n",
              "      <td>0.788930</td>\n",
              "      <td>0.829647</td>\n",
              "      <td>0.913872</td>\n",
              "      <td>1.018816</td>\n",
              "      <td>1.081491</td>\n",
              "      <td>1.003342</td>\n",
              "      <td>1.010832</td>\n",
              "      <td>1.094599</td>\n",
              "    </tr>\n",
              "    <tr>\n",
              "      <th>std</th>\n",
              "      <td>0.820890</td>\n",
              "      <td>0.701647</td>\n",
              "      <td>0.798408</td>\n",
              "      <td>0.666780</td>\n",
              "      <td>0.759970</td>\n",
              "      <td>0.781815</td>\n",
              "      <td>0.815804</td>\n",
              "      <td>0.753763</td>\n",
              "      <td>0.811018</td>\n",
              "      <td>0.794813</td>\n",
              "    </tr>\n",
              "    <tr>\n",
              "      <th>min</th>\n",
              "      <td>-6.072000</td>\n",
              "      <td>-4.854000</td>\n",
              "      <td>-5.785000</td>\n",
              "      <td>-3.642000</td>\n",
              "      <td>-5.367000</td>\n",
              "      <td>-4.068000</td>\n",
              "      <td>-3.306000</td>\n",
              "      <td>-3.584000</td>\n",
              "      <td>-2.216000</td>\n",
              "      <td>-2.644000</td>\n",
              "    </tr>\n",
              "    <tr>\n",
              "      <th>25%</th>\n",
              "      <td>0.432000</td>\n",
              "      <td>0.396000</td>\n",
              "      <td>0.408000</td>\n",
              "      <td>0.445750</td>\n",
              "      <td>0.457000</td>\n",
              "      <td>0.481000</td>\n",
              "      <td>0.510000</td>\n",
              "      <td>0.487000</td>\n",
              "      <td>0.477000</td>\n",
              "      <td>0.507000</td>\n",
              "    </tr>\n",
              "    <tr>\n",
              "      <th>50%</th>\n",
              "      <td>0.884504</td>\n",
              "      <td>0.750000</td>\n",
              "      <td>0.777000</td>\n",
              "      <td>0.829647</td>\n",
              "      <td>0.863000</td>\n",
              "      <td>1.004500</td>\n",
              "      <td>1.081491</td>\n",
              "      <td>1.003342</td>\n",
              "      <td>0.963000</td>\n",
              "      <td>1.094599</td>\n",
              "    </tr>\n",
              "    <tr>\n",
              "      <th>75%</th>\n",
              "      <td>1.196000</td>\n",
              "      <td>1.014000</td>\n",
              "      <td>1.017000</td>\n",
              "      <td>1.059000</td>\n",
              "      <td>1.106000</td>\n",
              "      <td>1.290000</td>\n",
              "      <td>1.406000</td>\n",
              "      <td>1.281000</td>\n",
              "      <td>1.248250</td>\n",
              "      <td>1.411000</td>\n",
              "    </tr>\n",
              "    <tr>\n",
              "      <th>max</th>\n",
              "      <td>7.190000</td>\n",
              "      <td>6.531000</td>\n",
              "      <td>10.826000</td>\n",
              "      <td>6.738000</td>\n",
              "      <td>11.759000</td>\n",
              "      <td>7.590000</td>\n",
              "      <td>10.478000</td>\n",
              "      <td>7.389000</td>\n",
              "      <td>9.228000</td>\n",
              "      <td>7.215000</td>\n",
              "    </tr>\n",
              "  </tbody>\n",
              "</table>\n",
              "</div>\n",
              "    <div class=\"colab-df-buttons\">\n",
              "\n",
              "  <div class=\"colab-df-container\">\n",
              "    <button class=\"colab-df-convert\" onclick=\"convertToInteractive('df-b3aa855d-570a-48b5-bf43-e0317d4aa161')\"\n",
              "            title=\"Convert this dataframe to an interactive table.\"\n",
              "            style=\"display:none;\">\n",
              "\n",
              "  <svg xmlns=\"http://www.w3.org/2000/svg\" height=\"24px\" viewBox=\"0 -960 960 960\">\n",
              "    <path d=\"M120-120v-720h720v720H120Zm60-500h600v-160H180v160Zm220 220h160v-160H400v160Zm0 220h160v-160H400v160ZM180-400h160v-160H180v160Zm440 0h160v-160H620v160ZM180-180h160v-160H180v160Zm440 0h160v-160H620v160Z\"/>\n",
              "  </svg>\n",
              "    </button>\n",
              "\n",
              "  <style>\n",
              "    .colab-df-container {\n",
              "      display:flex;\n",
              "      gap: 12px;\n",
              "    }\n",
              "\n",
              "    .colab-df-convert {\n",
              "      background-color: #E8F0FE;\n",
              "      border: none;\n",
              "      border-radius: 50%;\n",
              "      cursor: pointer;\n",
              "      display: none;\n",
              "      fill: #1967D2;\n",
              "      height: 32px;\n",
              "      padding: 0 0 0 0;\n",
              "      width: 32px;\n",
              "    }\n",
              "\n",
              "    .colab-df-convert:hover {\n",
              "      background-color: #E2EBFA;\n",
              "      box-shadow: 0px 1px 2px rgba(60, 64, 67, 0.3), 0px 1px 3px 1px rgba(60, 64, 67, 0.15);\n",
              "      fill: #174EA6;\n",
              "    }\n",
              "\n",
              "    .colab-df-buttons div {\n",
              "      margin-bottom: 4px;\n",
              "    }\n",
              "\n",
              "    [theme=dark] .colab-df-convert {\n",
              "      background-color: #3B4455;\n",
              "      fill: #D2E3FC;\n",
              "    }\n",
              "\n",
              "    [theme=dark] .colab-df-convert:hover {\n",
              "      background-color: #434B5C;\n",
              "      box-shadow: 0px 1px 3px 1px rgba(0, 0, 0, 0.15);\n",
              "      filter: drop-shadow(0px 1px 2px rgba(0, 0, 0, 0.3));\n",
              "      fill: #FFFFFF;\n",
              "    }\n",
              "  </style>\n",
              "\n",
              "    <script>\n",
              "      const buttonEl =\n",
              "        document.querySelector('#df-b3aa855d-570a-48b5-bf43-e0317d4aa161 button.colab-df-convert');\n",
              "      buttonEl.style.display =\n",
              "        google.colab.kernel.accessAllowed ? 'block' : 'none';\n",
              "\n",
              "      async function convertToInteractive(key) {\n",
              "        const element = document.querySelector('#df-b3aa855d-570a-48b5-bf43-e0317d4aa161');\n",
              "        const dataTable =\n",
              "          await google.colab.kernel.invokeFunction('convertToInteractive',\n",
              "                                                    [key], {});\n",
              "        if (!dataTable) return;\n",
              "\n",
              "        const docLinkHtml = 'Like what you see? Visit the ' +\n",
              "          '<a target=\"_blank\" href=https://colab.research.google.com/notebooks/data_table.ipynb>data table notebook</a>'\n",
              "          + ' to learn more about interactive tables.';\n",
              "        element.innerHTML = '';\n",
              "        dataTable['output_type'] = 'display_data';\n",
              "        await google.colab.output.renderOutput(dataTable, element);\n",
              "        const docLink = document.createElement('div');\n",
              "        docLink.innerHTML = docLinkHtml;\n",
              "        element.appendChild(docLink);\n",
              "      }\n",
              "    </script>\n",
              "  </div>\n",
              "\n",
              "\n",
              "<div id=\"df-a198b4ae-4c20-4290-bb63-93625c2134f2\">\n",
              "  <button class=\"colab-df-quickchart\" onclick=\"quickchart('df-a198b4ae-4c20-4290-bb63-93625c2134f2')\"\n",
              "            title=\"Suggest charts\"\n",
              "            style=\"display:none;\">\n",
              "\n",
              "<svg xmlns=\"http://www.w3.org/2000/svg\" height=\"24px\"viewBox=\"0 0 24 24\"\n",
              "     width=\"24px\">\n",
              "    <g>\n",
              "        <path d=\"M19 3H5c-1.1 0-2 .9-2 2v14c0 1.1.9 2 2 2h14c1.1 0 2-.9 2-2V5c0-1.1-.9-2-2-2zM9 17H7v-7h2v7zm4 0h-2V7h2v10zm4 0h-2v-4h2v4z\"/>\n",
              "    </g>\n",
              "</svg>\n",
              "  </button>\n",
              "\n",
              "<style>\n",
              "  .colab-df-quickchart {\n",
              "      --bg-color: #E8F0FE;\n",
              "      --fill-color: #1967D2;\n",
              "      --hover-bg-color: #E2EBFA;\n",
              "      --hover-fill-color: #174EA6;\n",
              "      --disabled-fill-color: #AAA;\n",
              "      --disabled-bg-color: #DDD;\n",
              "  }\n",
              "\n",
              "  [theme=dark] .colab-df-quickchart {\n",
              "      --bg-color: #3B4455;\n",
              "      --fill-color: #D2E3FC;\n",
              "      --hover-bg-color: #434B5C;\n",
              "      --hover-fill-color: #FFFFFF;\n",
              "      --disabled-bg-color: #3B4455;\n",
              "      --disabled-fill-color: #666;\n",
              "  }\n",
              "\n",
              "  .colab-df-quickchart {\n",
              "    background-color: var(--bg-color);\n",
              "    border: none;\n",
              "    border-radius: 50%;\n",
              "    cursor: pointer;\n",
              "    display: none;\n",
              "    fill: var(--fill-color);\n",
              "    height: 32px;\n",
              "    padding: 0;\n",
              "    width: 32px;\n",
              "  }\n",
              "\n",
              "  .colab-df-quickchart:hover {\n",
              "    background-color: var(--hover-bg-color);\n",
              "    box-shadow: 0 1px 2px rgba(60, 64, 67, 0.3), 0 1px 3px 1px rgba(60, 64, 67, 0.15);\n",
              "    fill: var(--button-hover-fill-color);\n",
              "  }\n",
              "\n",
              "  .colab-df-quickchart-complete:disabled,\n",
              "  .colab-df-quickchart-complete:disabled:hover {\n",
              "    background-color: var(--disabled-bg-color);\n",
              "    fill: var(--disabled-fill-color);\n",
              "    box-shadow: none;\n",
              "  }\n",
              "\n",
              "  .colab-df-spinner {\n",
              "    border: 2px solid var(--fill-color);\n",
              "    border-color: transparent;\n",
              "    border-bottom-color: var(--fill-color);\n",
              "    animation:\n",
              "      spin 1s steps(1) infinite;\n",
              "  }\n",
              "\n",
              "  @keyframes spin {\n",
              "    0% {\n",
              "      border-color: transparent;\n",
              "      border-bottom-color: var(--fill-color);\n",
              "      border-left-color: var(--fill-color);\n",
              "    }\n",
              "    20% {\n",
              "      border-color: transparent;\n",
              "      border-left-color: var(--fill-color);\n",
              "      border-top-color: var(--fill-color);\n",
              "    }\n",
              "    30% {\n",
              "      border-color: transparent;\n",
              "      border-left-color: var(--fill-color);\n",
              "      border-top-color: var(--fill-color);\n",
              "      border-right-color: var(--fill-color);\n",
              "    }\n",
              "    40% {\n",
              "      border-color: transparent;\n",
              "      border-right-color: var(--fill-color);\n",
              "      border-top-color: var(--fill-color);\n",
              "    }\n",
              "    60% {\n",
              "      border-color: transparent;\n",
              "      border-right-color: var(--fill-color);\n",
              "    }\n",
              "    80% {\n",
              "      border-color: transparent;\n",
              "      border-right-color: var(--fill-color);\n",
              "      border-bottom-color: var(--fill-color);\n",
              "    }\n",
              "    90% {\n",
              "      border-color: transparent;\n",
              "      border-bottom-color: var(--fill-color);\n",
              "    }\n",
              "  }\n",
              "</style>\n",
              "\n",
              "  <script>\n",
              "    async function quickchart(key) {\n",
              "      const quickchartButtonEl =\n",
              "        document.querySelector('#' + key + ' button');\n",
              "      quickchartButtonEl.disabled = true;  // To prevent multiple clicks.\n",
              "      quickchartButtonEl.classList.add('colab-df-spinner');\n",
              "      try {\n",
              "        const charts = await google.colab.kernel.invokeFunction(\n",
              "            'suggestCharts', [key], {});\n",
              "      } catch (error) {\n",
              "        console.error('Error during call to suggestCharts:', error);\n",
              "      }\n",
              "      quickchartButtonEl.classList.remove('colab-df-spinner');\n",
              "      quickchartButtonEl.classList.add('colab-df-quickchart-complete');\n",
              "    }\n",
              "    (() => {\n",
              "      let quickchartButtonEl =\n",
              "        document.querySelector('#df-a198b4ae-4c20-4290-bb63-93625c2134f2 button');\n",
              "      quickchartButtonEl.style.display =\n",
              "        google.colab.kernel.accessAllowed ? 'block' : 'none';\n",
              "    })();\n",
              "  </script>\n",
              "</div>\n",
              "\n",
              "  <div id=\"id_ae1171c0-b928-48db-a1a3-ec91421adbfe\">\n",
              "    <style>\n",
              "      .colab-df-generate {\n",
              "        background-color: #E8F0FE;\n",
              "        border: none;\n",
              "        border-radius: 50%;\n",
              "        cursor: pointer;\n",
              "        display: none;\n",
              "        fill: #1967D2;\n",
              "        height: 32px;\n",
              "        padding: 0 0 0 0;\n",
              "        width: 32px;\n",
              "      }\n",
              "\n",
              "      .colab-df-generate:hover {\n",
              "        background-color: #E2EBFA;\n",
              "        box-shadow: 0px 1px 2px rgba(60, 64, 67, 0.3), 0px 1px 3px 1px rgba(60, 64, 67, 0.15);\n",
              "        fill: #174EA6;\n",
              "      }\n",
              "\n",
              "      [theme=dark] .colab-df-generate {\n",
              "        background-color: #3B4455;\n",
              "        fill: #D2E3FC;\n",
              "      }\n",
              "\n",
              "      [theme=dark] .colab-df-generate:hover {\n",
              "        background-color: #434B5C;\n",
              "        box-shadow: 0px 1px 3px 1px rgba(0, 0, 0, 0.15);\n",
              "        filter: drop-shadow(0px 1px 2px rgba(0, 0, 0, 0.3));\n",
              "        fill: #FFFFFF;\n",
              "      }\n",
              "    </style>\n",
              "    <button class=\"colab-df-generate\" onclick=\"generateWithVariable('desc_stats')\"\n",
              "            title=\"Generate code using this dataframe.\"\n",
              "            style=\"display:none;\">\n",
              "\n",
              "  <svg xmlns=\"http://www.w3.org/2000/svg\" height=\"24px\"viewBox=\"0 0 24 24\"\n",
              "       width=\"24px\">\n",
              "    <path d=\"M7,19H8.4L18.45,9,17,7.55,7,17.6ZM5,21V16.75L18.45,3.32a2,2,0,0,1,2.83,0l1.4,1.43a1.91,1.91,0,0,1,.58,1.4,1.91,1.91,0,0,1-.58,1.4L9.25,21ZM18.45,9,17,7.55Zm-12,3A5.31,5.31,0,0,0,4.9,8.1,5.31,5.31,0,0,0,1,6.5,5.31,5.31,0,0,0,4.9,4.9,5.31,5.31,0,0,0,6.5,1,5.31,5.31,0,0,0,8.1,4.9,5.31,5.31,0,0,0,12,6.5,5.46,5.46,0,0,0,6.5,12Z\"/>\n",
              "  </svg>\n",
              "    </button>\n",
              "    <script>\n",
              "      (() => {\n",
              "      const buttonEl =\n",
              "        document.querySelector('#id_ae1171c0-b928-48db-a1a3-ec91421adbfe button.colab-df-generate');\n",
              "      buttonEl.style.display =\n",
              "        google.colab.kernel.accessAllowed ? 'block' : 'none';\n",
              "\n",
              "      buttonEl.onclick = () => {\n",
              "        google.colab.notebook.generateWithVariable('desc_stats');\n",
              "      }\n",
              "      })();\n",
              "    </script>\n",
              "  </div>\n",
              "\n",
              "    </div>\n",
              "  </div>\n"
            ],
            "application/vnd.google.colaboratory.intrinsic+json": {
              "type": "dataframe",
              "variable_name": "desc_stats",
              "summary": "{\n  \"name\": \"desc_stats\",\n  \"rows\": 8,\n  \"fields\": [\n    {\n      \"column\": \"Y2010\",\n      \"properties\": {\n        \"dtype\": \"number\",\n        \"std\": 3413.643884715821,\n        \"min\": -6.072,\n        \"max\": 9656.0,\n        \"num_unique_values\": 7,\n        \"samples\": [\n          9656.0,\n          0.8845043272080616,\n          1.196\n        ],\n        \"semantic_type\": \"\",\n        \"description\": \"\"\n      }\n    },\n    {\n      \"column\": \"Y2011\",\n      \"properties\": {\n        \"dtype\": \"number\",\n        \"std\": 3413.6448493348503,\n        \"min\": -4.854,\n        \"max\": 9656.0,\n        \"num_unique_values\": 8,\n        \"samples\": [\n          0.7684878511319189,\n          0.75,\n          9656.0\n        ],\n        \"semantic_type\": \"\",\n        \"description\": \"\"\n      }\n    },\n    {\n      \"column\": \"Y2012\",\n      \"properties\": {\n        \"dtype\": \"number\",\n        \"std\": 3413.468523984932,\n        \"min\": -5.785,\n        \"max\": 9656.0,\n        \"num_unique_values\": 8,\n        \"samples\": [\n          0.7889297005988023,\n          0.777,\n          9656.0\n        ],\n        \"semantic_type\": \"\",\n        \"description\": \"\"\n      }\n    },\n    {\n      \"column\": \"Y2013\",\n      \"properties\": {\n        \"dtype\": \"number\",\n        \"std\": 3413.5628319873263,\n        \"min\": -3.642,\n        \"max\": 9656.0,\n        \"num_unique_values\": 8,\n        \"samples\": [\n          0.8296469680787945,\n          0.8296469680787943,\n          9656.0\n        ],\n        \"semantic_type\": \"\",\n        \"description\": \"\"\n      }\n    },\n    {\n      \"column\": \"Y2014\",\n      \"properties\": {\n        \"dtype\": \"number\",\n        \"std\": 3413.3848638367244,\n        \"min\": -5.367,\n        \"max\": 9656.0,\n        \"num_unique_values\": 8,\n        \"samples\": [\n          0.9138723886832996,\n          0.863,\n          9656.0\n        ],\n        \"semantic_type\": \"\",\n        \"description\": \"\"\n      }\n    },\n    {\n      \"column\": \"Y2015\",\n      \"properties\": {\n        \"dtype\": \"number\",\n        \"std\": 3413.503973223596,\n        \"min\": -4.068,\n        \"max\": 9656.0,\n        \"num_unique_values\": 8,\n        \"samples\": [\n          1.0188156919028823,\n          1.0045,\n          9656.0\n        ],\n        \"semantic_type\": \"\",\n        \"description\": \"\"\n      }\n    },\n    {\n      \"column\": \"Y2016\",\n      \"properties\": {\n        \"dtype\": \"number\",\n        \"std\": 3413.304275429988,\n        \"min\": -3.306,\n        \"max\": 9656.0,\n        \"num_unique_values\": 7,\n        \"samples\": [\n          9656.0,\n          1.0814910158121707,\n          1.406\n        ],\n        \"semantic_type\": \"\",\n        \"description\": \"\"\n      }\n    },\n    {\n      \"column\": \"Y2017\",\n      \"properties\": {\n        \"dtype\": \"number\",\n        \"std\": 3413.4919338894147,\n        \"min\": -3.584,\n        \"max\": 9656.0,\n        \"num_unique_values\": 8,\n        \"samples\": [\n          1.0033422185034662,\n          1.0033422185034664,\n          9656.0\n        ],\n        \"semantic_type\": \"\",\n        \"description\": \"\"\n      }\n    },\n    {\n      \"column\": \"Y2018\",\n      \"properties\": {\n        \"dtype\": \"number\",\n        \"std\": 3413.3311654049426,\n        \"min\": -2.216,\n        \"max\": 9656.0,\n        \"num_unique_values\": 8,\n        \"samples\": [\n          1.0108324350221585,\n          0.963,\n          9656.0\n        ],\n        \"semantic_type\": \"\",\n        \"description\": \"\"\n      }\n    },\n    {\n      \"column\": \"Y2019\",\n      \"properties\": {\n        \"dtype\": \"number\",\n        \"std\": 3413.434157974025,\n        \"min\": -2.644,\n        \"max\": 9656.0,\n        \"num_unique_values\": 7,\n        \"samples\": [\n          9656.0,\n          1.0945994022713688,\n          1.411\n        ],\n        \"semantic_type\": \"\",\n        \"description\": \"\"\n      }\n    }\n  ]\n}"
            }
          },
          "metadata": {},
          "execution_count": 22
        },
        {
          "output_type": "display_data",
          "data": {
            "text/plain": [
              "<Figure size 1600x1200 with 12 Axes>"
            ],
            "image/png": "[encoded data removed]"
          },
          "metadata": {}
        }
      ]
    },
    {
      "cell_type": "code",
      "source": [
        "months = ['January','February','March','April','May','June','July','August','September','October','November','December']\n",
        "temp_months =df[df['Months'].isin(months)]"
      ],
      "metadata": {
        "id": "-8ttF093yK6r"
      },
      "execution_count": 23,
      "outputs": []
    },
    {
      "cell_type": "code",
      "source": [
        "plt.figure(figsize=(20,10))\n",
        "sns.lineplot(x=temp_months.Months.loc[temp_months.Element=='Temperature change'],y=temp_months.Y2011.loc[temp_months.Element=='Temperature change'], label='Y2011')\n",
        "sns.lineplot(x=temp_months.Months.loc[temp_months.Element=='Temperature change'],y=temp_months.Y2012.loc[temp_months.Element=='Temperature change'], label='Y2012')\n",
        "sns.lineplot(x=temp_months.Months.loc[temp_months.Element=='Temperature change'],y=temp_months.Y2015.loc[temp_months.Element=='Temperature change'], label='Y2015')\n",
        "sns.lineplot(x=temp_months.Months.loc[temp_months.Element=='Temperature change'],y=temp_months.Y2018.loc[temp_months.Element=='Temperature change'], label='Y2018')\n",
        "sns.lineplot(x=temp_months.Months.loc[temp_months.Element=='Temperature change'],y=temp_months.Y2019.loc[temp_months.Element=='Temperature change'], label='Y2019')\n",
        "plt.xlabel('months')\n",
        "plt.ylabel('Temperature change (C)')\n",
        "plt.title('Temperature Change in Worldwide last few decades')\n",
        "plt.show()"
      ],
      "metadata": {
        "id": "yw0SomCxxYD2"
      },
      "execution_count": null,
      "outputs": []
    },
    {
      "cell_type": "markdown",
      "source": [
        "## **Categorical Data Analysis**"
      ],
      "metadata": {
        "id": "4hjJjXjikMS_"
      }
    },
    {
      "cell_type": "code",
      "source": [
        "cat_cols = [col for col in df.columns if df[col].dtypes==\"object\"]\n",
        "cat_cols"
      ],
      "metadata": {
        "id": "QbahO9nMSbpA"
      },
      "execution_count": null,
      "outputs": []
    },
    {
      "cell_type": "markdown",
      "source": [
        "## 1) Area"
      ],
      "metadata": {
        "id": "PZN1K3E5S0OA"
      }
    },
    {
      "cell_type": "code",
      "source": [
        "df.Area.value_counts()"
      ],
      "metadata": {
        "id": "zNe_asfFSnn4"
      },
      "execution_count": null,
      "outputs": []
    },
    {
      "cell_type": "code",
      "source": [
        "#Percentage Distribution\n",
        "print(df['Area'].value_counts(normalize=True) * 100)"
      ],
      "metadata": {
        "id": "3vPTGKFtUVJg"
      },
      "execution_count": null,
      "outputs": []
    },
    {
      "cell_type": "code",
      "source": [
        "# Mode of the column\n",
        "mode_value = df['Area'].mode()[0]\n",
        "print(f'Mode of Area column is: {mode_value}')"
      ],
      "metadata": {
        "id": "DFYVQKa5VTwZ"
      },
      "execution_count": null,
      "outputs": []
    },
    {
      "cell_type": "markdown",
      "source": [
        "## 2) Months"
      ],
      "metadata": {
        "id": "1nMVAwJeWAzu"
      }
    },
    {
      "cell_type": "code",
      "source": [
        "# Frequency distribution of the months\n",
        "df['Months'].value_counts()\n"
      ],
      "metadata": {
        "id": "gxkRNTPFWAUX"
      },
      "execution_count": null,
      "outputs": []
    },
    {
      "cell_type": "code",
      "source": [
        "# Proportion of each month in percentage\n",
        "df['Months'].value_counts(normalize=True) * 100\n"
      ],
      "metadata": {
        "id": "LtwztttNbXhG"
      },
      "execution_count": null,
      "outputs": []
    },
    {
      "cell_type": "code",
      "source": [
        "df['Months'].unique()"
      ],
      "metadata": {
        "id": "PR8XXzi4YIgO"
      },
      "execution_count": null,
      "outputs": []
    },
    {
      "cell_type": "code",
      "source": [
        "df['Months'].mode()[0]"
      ],
      "metadata": {
        "id": "A_mvwcdia3Zm"
      },
      "execution_count": null,
      "outputs": []
    },
    {
      "cell_type": "code",
      "source": [
        "# Bar plot of months\n",
        "df['Months'].value_counts().plot(kind=\"bar\", color=\"skyblue\")\n",
        "plt.title('Frequency of Each Month')\n",
        "plt.xlabel('Month')\n",
        "plt.ylabel('Count')\n",
        "plt.xticks(fontsize=10)  # Ensure labels are horizontal\n",
        "plt.show()"
      ],
      "metadata": {
        "id": "y-Qhsmq9WqiN"
      },
      "execution_count": null,
      "outputs": []
    },
    {
      "cell_type": "code",
      "source": [
        "#Pie chart of months\n",
        "plt.figure(figsize=(8,8))\n",
        "df['Months'].value_counts().plot(kind=\"pie\",autopct=\"%1.2f%%\",labeldistance=1,pctdistance=0.85 )\n",
        "plt.title('Months')\n",
        "plt.show()"
      ],
      "metadata": {
        "id": "--aL4Mwufngv"
      },
      "execution_count": null,
      "outputs": []
    },
    {
      "cell_type": "markdown",
      "source": [
        "## 3) Elements"
      ],
      "metadata": {
        "id": "iLVVm9FAhv9y"
      }
    },
    {
      "cell_type": "code",
      "source": [
        "df['Element'].value_counts()"
      ],
      "metadata": {
        "id": "eVqNiC8_pZww"
      },
      "execution_count": null,
      "outputs": []
    },
    {
      "cell_type": "code",
      "source": [
        "df['Element'].value_counts().plot(kind=\"bar\")\n",
        "plt.title('Element')\n",
        "plt.xticks(rotation=0, fontsize=8, ha='center')  # Horizontal alignment of x-axis labels\n",
        "plt.show()"
      ],
      "metadata": {
        "id": "eC5W5rpzqBPP"
      },
      "execution_count": null,
      "outputs": []
    },
    {
      "cell_type": "code",
      "source": [
        "df['Element'].value_counts().plot(kind=\"pie\",autopct=\"%1.2f%%\")\n",
        "plt.title('Element')\n",
        "plt.show()"
      ],
      "metadata": {
        "id": "EzJ9xXIKo7mU"
      },
      "execution_count": null,
      "outputs": []
    },
    {
      "cell_type": "markdown",
      "source": [
        "\n",
        "\n",
        "# **Bivariate** **Data** **Analysis** -"
      ],
      "metadata": {
        "id": "tFDsPu_rlNT5"
      }
    },
    {
      "cell_type": "markdown",
      "source": [
        "## Numerical-Numerical"
      ],
      "metadata": {
        "id": "FKFiJx030N0a"
      }
    },
    {
      "cell_type": "markdown",
      "source": [
        "# 1. Correlation Between Temperature Change and Standard Deviation"
      ],
      "metadata": {
        "id": "et3tKjiF_hLP"
      }
    },
    {
      "cell_type": "code",
      "source": [
        "#Calculate Correlation Between Temperature Change and Standard Deviation (2015)\n",
        "\n",
        "temp_data = df[df['Element'] == 'Temperature change']\n",
        "std_dev_data = df[df['Element'] == 'Standard Deviation']\n",
        "merged_data = pd.merge(temp_data, std_dev_data, on=['Area', 'Months', 'Unit'], suffixes=('_temp', '_std_dev'))\n",
        "merged_data[['Area', 'Months', 'Y2015_temp', 'Y2015_std_dev']].head()\n",
        "correlation = merged_data['Y2015_temp'].corr(merged_data['Y2015_std_dev'])\n",
        "print(f\"Correlation between temperature change and standard deviation for 2015: {correlation}\")\n"
      ],
      "metadata": {
        "id": "_mSin3xtliAT"
      },
      "execution_count": null,
      "outputs": []
    },
    {
      "cell_type": "markdown",
      "source": [
        "A value close to 0 indicates no significant relationship between temperature change and standard deviation."
      ],
      "metadata": {
        "id": "Zm3uD_xx87uh"
      }
    },
    {
      "cell_type": "code",
      "source": [
        "# Scatter plot to visualize correlation between temperature change and standard deviation (for 2015)\n",
        "plt.figure(figsize=(10, 6))\n",
        "sns.scatterplot(x=merged_data['Y2015_temp'], y=merged_data['Y2015_std_dev'])\n",
        "plt.title('Temperature Change vs Standard Deviation (2015)')\n",
        "plt.xlabel('Temperature Change (°C)')\n",
        "plt.ylabel('Standard Deviation (°C)')\n",
        "plt.show()"
      ],
      "metadata": {
        "id": "a5vBWyWI3hOH"
      },
      "execution_count": null,
      "outputs": []
    },
    {
      "cell_type": "markdown",
      "source": [
        ".\n",
        "\n",
        "\n",
        "Finding Correlation Between Temperature Change and Standard Deviation Over Time"
      ],
      "metadata": {
        "id": "ri6YmyH54BIC"
      }
    },
    {
      "cell_type": "code",
      "source": [
        "# List of years to calculate correlation for\n",
        "years = ['Y2010', 'Y2011', 'Y2012', 'Y2013', 'Y2014', 'Y2015', 'Y2016', 'Y2017', 'Y2018', 'Y2019']\n",
        "\n",
        "# Initialize an empty dictionary to store the correlations\n",
        "correlations = {}\n",
        "\n",
        "# Loop through each year and calculate correlation between temperature change and standard deviation\n",
        "for year in years:\n",
        "    correlation = merged_data[f'{year}_temp'].corr(merged_data[f'{year}_std_dev'])\n",
        "    correlations[year] = correlation\n",
        "\n",
        "# Convert the dictionary into a pandas DataFrame for easier analysis\n",
        "correlation_df = pd.DataFrame(list(correlations.items()), columns=['Year', 'Correlation'])\n",
        "\n",
        "# Display the correlation DataFrame\n",
        "correlation_df\n"
      ],
      "metadata": {
        "id": "4Uz4wNl83-SQ"
      },
      "execution_count": null,
      "outputs": []
    },
    {
      "cell_type": "code",
      "source": [
        "# Line plot to visualize the trend of correlation over the years\n",
        "plt.figure(figsize=(10, 6))\n",
        "plt.plot(correlation_df['Year'], correlation_df['Correlation'], marker='o', color='b', linestyle='-', linewidth=2)\n",
        "plt.title('Correlation Between Temperature Change and Standard Deviation Over Time')\n",
        "plt.xlabel('Year')\n",
        "plt.ylabel('Correlation')\n",
        "plt.grid(True)\n",
        "plt.show()\n"
      ],
      "metadata": {
        "id": "_JkWWQXI4fIk"
      },
      "execution_count": null,
      "outputs": []
    },
    {
      "cell_type": "code",
      "source": [
        "corr = df[['Y2010', 'Y2011', 'Y2012', 'Y2013', 'Y2014','Y2015','Y2016','Y2017','Y2018','Y2019']].corr()\n",
        "sns.heatmap(corr, annot=True, cmap='coolwarm', vmin=-1, vmax=1)\n",
        "plt.title('Correlation Heatmap')\n",
        "plt.show()\n"
      ],
      "metadata": {
        "id": "2nZkYiiTAraN"
      },
      "execution_count": null,
      "outputs": []
    },
    {
      "cell_type": "markdown",
      "source": [
        "\n",
        "Conclusion:\n",
        "The correlation analysis between temperature change and standard deviation shows a weak positive relationship. This suggests that while there is a slight tendency for regions with greater temperature changes to experience more variability, the effect is not strong. Other factors beyond temperature change may play a more significant role in driving temperature variability in the regions analyzed.\n"
      ],
      "metadata": {
        "id": "o2RSIPkr6kW2"
      }
    },
    {
      "cell_type": "markdown",
      "source": [
        "# 2. Seasonal Trends in Temperature Change"
      ],
      "metadata": {
        "id": "sErCcuue_Wne"
      }
    },
    {
      "cell_type": "code",
      "source": [
        "# Filter data for a specific area - Afghanistan\n",
        "area_data = df[(df['Area'] == 'Afghanistan') & (df['Element'] == 'Temperature change')]\n",
        "\n",
        "# Line plot of temperature change over months for 2015\n",
        "plt.figure(figsize=(10, 6))\n",
        "sns.lineplot(x='Months', y='Y2015', data=area_data, marker='o')\n",
        "plt.title('Monthly Temperature Change in Afghanistan (2015)')\n",
        "plt.ylabel('Temperature Change (°C)')\n",
        "plt.xticks(rotation=45)\n",
        "plt.show()\n"
      ],
      "metadata": {
        "id": "0lxW-q0u-B4N"
      },
      "execution_count": null,
      "outputs": []
    },
    {
      "cell_type": "markdown",
      "source": [
        "# 3. Yearly Trends in Temperature Change"
      ],
      "metadata": {
        "id": "a2cQAK1Z_PVJ"
      }
    },
    {
      "cell_type": "code",
      "source": [
        "# Line plot of temperature change over years for Afghanistan\n",
        "years = ['Y2010', 'Y2011', 'Y2012', 'Y2013', 'Y2014', 'Y2015', 'Y2016', 'Y2017', 'Y2018', 'Y2019']\n",
        "afghanistan_data = df[(df['Area'] == 'Afghanistan') & (df['Element'] == 'Temperature change')]\n",
        "\n",
        "plt.figure(figsize=(10, 6))\n",
        "plt.plot(years, afghanistan_data[years].mean(), marker='o')\n",
        "plt.title('Yearly Temperature Change in Afghanistan')\n",
        "plt.xlabel('Year')\n",
        "plt.ylabel('Temperature Change (°C)')\n",
        "plt.xticks(rotation=45)\n",
        "plt.show()\n"
      ],
      "metadata": {
        "id": "F0zD8usE-ZKS"
      },
      "execution_count": null,
      "outputs": []
    },
    {
      "cell_type": "markdown",
      "source": [
        "## Categorical-Categorical"
      ],
      "metadata": {
        "id": "dh2fykoyCbPN"
      }
    },
    {
      "cell_type": "code",
      "source": [
        "\n",
        "crosstab = pd.crosstab(df['Months'], df['Element'])\n",
        "print(crosstab)\n"
      ],
      "metadata": {
        "id": "YOoBolLX_-hI"
      },
      "execution_count": null,
      "outputs": []
    },
    {
      "cell_type": "code",
      "source": [
        "crosstab = pd.crosstab(df['Months'], df['Element'])\n",
        "crosstab.plot(kind='bar', stacked=True)\n",
        "plt.title('Stacked Bar Chart of Elements by Month')\n",
        "plt.xlabel('Month')\n",
        "plt.ylabel('Count')\n",
        "plt.show()"
      ],
      "metadata": {
        "id": "YPjgxMFdFEcv"
      },
      "execution_count": null,
      "outputs": []
    },
    {
      "cell_type": "code",
      "source": [
        "sns.boxplot(x='Months', y='Y2010', hue='Element', data=df)\n",
        "plt.title('Distribution of Y2010 Temperatures by Month and Element')\n",
        "plt.xticks(rotation=90)\n",
        "plt.show()\n"
      ],
      "metadata": {
        "id": "xxqVYUBgGYmy"
      },
      "execution_count": null,
      "outputs": []
    },
    {
      "cell_type": "code",
      "source": [
        "from scipy.stats import chi2_contingency\n",
        "\n",
        "contingency_table = pd.crosstab(df['Months'], df['Element'])\n",
        "chi2, p, dof, expected = chi2_contingency(contingency_table)\n",
        "print(f'Chi-Square Statistic: {chi2}, p-value: {p}')"
      ],
      "metadata": {
        "id": "pPSBs6hkFK8z"
      },
      "execution_count": null,
      "outputs": []
    },
    {
      "cell_type": "markdown",
      "source": [
        " Conclusion : Given the chi-square statistic of 0.0 and a p-value of 1.0, we fail to reject the null hypothesis. This means that there is no significant association between the variables Months and Element in this dataset. In other words, the occurrence of Element does not depend on the Months.This is a strong indication that these two variables are likely independent of each other in your data."
      ],
      "metadata": {
        "id": "xwPwHEYz52ub"
      }
    }
  ]
}